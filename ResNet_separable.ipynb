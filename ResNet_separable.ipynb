{
  "nbformat": 4,
  "nbformat_minor": 0,
  "metadata": {
    "kernelspec": {
      "name": "python3",
      "display_name": "Python 3"
    },
    "colab": {
      "name": "Woof_128_twist.ipynb",
      "provenance": [],
      "collapsed_sections": [
        "LP3vVSWMBz1L",
        "6C-1pE45Bz1l",
        "pLmt0ISPBz2w"
      ],
      "include_colab_link": true
    },
    "accelerator": "GPU"
  },
  "cells": [
    {
      "cell_type": "markdown",
      "metadata": {
        "id": "view-in-github",
        "colab_type": "text"
      },
      "source": [
        "<a href=\"https://colab.research.google.com/github/liuyao12/imagenette_experiments/blob/master/ResNet_separable.ipynb\" target=\"_parent\"><img src=\"https://colab.research.google.com/assets/colab-badge.svg\" alt=\"Open In Colab\"/></a>"
      ]
    },
    {
      "cell_type": "markdown",
      "metadata": {
        "id": "GM0cNcW2Bzz4",
        "colab_type": "text"
      },
      "source": [
        "# ResNet with depthwise separable convolution\n",
        "\n",
        "> depthwise (x4) + Ranger + Mish + SA + MaxBlurPool + ResTrick\n",
        "\n",
        "See summary at https://forums.fast.ai/t/imagenette-imagewoof-leaderboards/45822/47?u=liuyao "
      ]
    },
    {
      "cell_type": "markdown",
      "metadata": {
        "id": "cXBTriT1fmXE",
        "colab_type": "text"
      },
      "source": [
        "## Imagewoof Leaderboard\n",
        "\n",
        "| Size (px) | Epochs | URL | Accuracy | # Runs |\n",
        "|--|--|--|--|--|\n",
        "|128|5|depthwise double|**82.12**|5, mean|\n",
        "|128|20|depthwise double|**88.93**|5, mean|\n",
        "|128|80|depthwise(x4, stem+body) etc.|90.22%|1|\n",
        "|128|200|depthwise(x4, stem+body) etc.|90.71%|1|\n",
        "|192|5|depthwise double|**82.69**|5, mean|\n",
        "|192|20|depthwise(x4) etc.|88.37%|5, mean|\n",
        "|192|80|depthwise(x4m stem+body) etc.|91.44%|1|\n",
        "|192|200|depthwise(x4) etc.|90.32%|1|\n",
        "|256|5|depthwise(x4) etc.|82.33%|5, mean|\n",
        "|256|20|[Resnet Trick + Mish + Sa + MaxBlurPool](https://github.com/ayasyrev/imagenette_experiments/blob/master/Woof_MaxBlurPool_ResnetTrick_s256bs32.ipynb)|88,58%|5, mean|\n",
        "|256|80|depthwise(x4) etc.|90.93%|1|\n",
        "|256|200|[fastai2 train_imagenette.py 2020-01](https://github.com/fastai/imagenette/blob/master/2020-01-train.md)|90.38%|1|\n"
      ]
    },
    {
      "cell_type": "markdown",
      "metadata": {
        "id": "DrD1-te_Bzz7",
        "colab_type": "text"
      },
      "source": [
        "# setup and imports"
      ]
    },
    {
      "cell_type": "code",
      "metadata": {
        "id": "jtfoQmHrJonm",
        "colab_type": "code",
        "colab": {}
      },
      "source": [
        "# pip install kornia"
      ],
      "execution_count": null,
      "outputs": []
    },
    {
      "cell_type": "code",
      "metadata": {
        "id": "UteAROmqBzz9",
        "colab_type": "code",
        "colab": {}
      },
      "source": [
        "pip install git+https://github.com/ayasyrev/model_constructor"
      ],
      "execution_count": null,
      "outputs": []
    },
    {
      "cell_type": "code",
      "metadata": {
        "colab_type": "code",
        "id": "XnsPVNrkTfV3",
        "colab": {}
      },
      "source": [
        "pip install git+https://github.com/ayasyrev/imagenette_experiments"
      ],
      "execution_count": null,
      "outputs": []
    },
    {
      "cell_type": "code",
      "metadata": {
        "id": "K-OCjxGCBz0J",
        "colab_type": "code",
        "colab": {}
      },
      "source": [
        "from fastai.basic_train import *\n",
        "from fastai.vision import *\n",
        "# from fastai.script import *"
      ],
      "execution_count": 3,
      "outputs": []
    },
    {
      "cell_type": "code",
      "metadata": {
        "id": "vPNF3XKWBz0O",
        "colab_type": "code",
        "colab": {}
      },
      "source": [
        "from kornia.contrib import MaxBlurPool2d"
      ],
      "execution_count": 4,
      "outputs": []
    },
    {
      "cell_type": "code",
      "metadata": {
        "id": "xPGwrk6TBz0U",
        "colab_type": "code",
        "colab": {}
      },
      "source": [
        "from imagenette_experiments.train_utils import *\n",
        "from model_constructor.net import Net, act_fn\n",
        "from model_constructor.layers import SimpleSelfAttention, ConvLayer"
      ],
      "execution_count": 5,
      "outputs": []
    },
    {
      "cell_type": "markdown",
      "metadata": {
        "id": "U63Mcb1lBz0p",
        "colab_type": "text"
      },
      "source": [
        "# ResBlock"
      ]
    },
    {
      "cell_type": "code",
      "metadata": {
        "id": "kY7y9c99Bz0q",
        "colab_type": "code",
        "colab": {}
      },
      "source": [
        "class NewLayer(nn.Sequential):\n",
        "    \"\"\"Basic conv layers block\"\"\"\n",
        "    def __init__(self, ni, nf, ks=3, stride=1,\n",
        "            act=True,  act_fn=nn.ReLU(inplace=True),\n",
        "            bn_layer=True, bn_1st=True, zero_bn=False,\n",
        "            padding=None, bias=False, groups=1, **kwargs):\n",
        "\n",
        "        if padding==None: padding = ks//2\n",
        "        if ks==3 and groups==1:  # to be used for the \"stem\" of ResNet\n",
        "          layers = [('Conv3x3', nn.Conv2d(ni, ni*4, 3, stride=1, padding=1, bias=bias, groups=ni)),\n",
        "                    ('Conv1x1', nn.Conv2d(ni*4, nf, 1, bias=bias, groups=1))]\n",
        "        else:\n",
        "          layers = [('Conv{}x{}'.format(ks,ks), \n",
        "                      nn.Conv2d(ni, nf, ks, stride=stride, padding=padding, bias=bias, groups=groups))]\n",
        "\n",
        "        act_bn = [('act_fn', act_fn)] if act else []\n",
        "        if bn_layer:\n",
        "            bn = nn.BatchNorm2d(nf)\n",
        "            nn.init.constant_(bn.weight, 0. if zero_bn else 1.)\n",
        "            act_bn += [('bn', bn)]\n",
        "        if bn_1st: act_bn.reverse()\n",
        "        layers += act_bn\n",
        "        super().__init__(OrderedDict(layers))"
      ],
      "execution_count": 6,
      "outputs": []
    },
    {
      "cell_type": "code",
      "metadata": {
        "id": "nVLFz9nhBz0x",
        "colab_type": "code",
        "colab": {}
      },
      "source": [
        "class NewResBlock(Module):\n",
        "    def __init__(self, expansion, ni, nh, stride=1,\n",
        "                 conv_layer=ConvLayer, act_fn=act_fn, bn_1st=True,\n",
        "                 pool=nn.AvgPool2d(2, ceil_mode=True), sa=False, sym=False, zero_bn=True):\n",
        "        nf,ni = nh*expansion,ni*expansion\n",
        "        conv_layer = NewLayer\n",
        "        self.reduce = noop if stride==1 else pool\n",
        "        layers  = [(f\"conv_0\", conv_layer(ni, nh, 3, act_fn=act_fn, bn_1st=bn_1st)),\n",
        "                   (f\"conv_1\", conv_layer(nh, nf, 3, zero_bn=zero_bn, act=False, bn_layer=True))\n",
        "        ] if expansion == 1 else [\n",
        "                   (f\"conv_0\", conv_layer(ni, nh, 1, act_fn=act_fn, bn_1st=bn_1st)),\n",
        "                   # (f\"conv_1\", conv_layer(nh, nh, 3, act_fn=act_fn, bn_1st=bn_1st)),\n",
        "                   # (f\"conv_1\", conv_layer(nh, nh*4, 3, groups=nh, act_fn=act_fn, bn_1st=bn_1st)),\n",
        "                   (f\"conv_1\", conv_layer(nh, nh*4, 3, groups=nh, act=False, bn_layer=False)),\n",
        "                   (f\"conv_2\", conv_layer(nh*4, nf, 1, zero_bn=zero_bn, act=False, bn_1st=bn_1st))\n",
        "        ]\n",
        "        if sa: layers.append(('sa', SimpleSelfAttention(nf,ks=1,sym=sym)))\n",
        "        self.convs = nn.Sequential(OrderedDict(layers))\n",
        "        self.idconv = noop if ni==nf else conv_layer(ni, nf, 1, act=False, bn_1st=bn_1st)\n",
        "        self.merge = act_fn\n",
        "\n",
        "    def forward(self, x):\n",
        "        o = self.reduce(x)\n",
        "        return self.merge(self.convs(o) + self.idconv(o))"
      ],
      "execution_count": 10,
      "outputs": []
    },
    {
      "cell_type": "markdown",
      "metadata": {
        "id": "XroIp4GcBz07",
        "colab_type": "text"
      },
      "source": [
        "# Model Constructor"
      ]
    },
    {
      "cell_type": "code",
      "metadata": {
        "id": "ZTrZVV81Bz1G",
        "colab_type": "code",
        "colab": {}
      },
      "source": [
        "model = Net(c_out=10, layers=[3,6,8,3], expansion=4)\n",
        "model.block = NewResBlock\n",
        "model.conv_layer = NewLayer # for the stem\n",
        "pool = MaxBlurPool2d(3, True)\n",
        "model.pool = pool\n",
        "model.stem_pool = pool\n",
        "model.stem_sizes = [3,32,64,64]\n",
        "model.act_fn = Mish()\n",
        "model.sa = True\n",
        "res = []"
      ],
      "execution_count": 11,
      "outputs": []
    },
    {
      "cell_type": "markdown",
      "metadata": {
        "id": "Iw49hpbXmhBZ",
        "colab_type": "text"
      },
      "source": [
        "# results"
      ]
    },
    {
      "cell_type": "markdown",
      "metadata": {
        "id": "8g2J_rBABz13",
        "colab_type": "text"
      },
      "source": [
        "## size=128\n"
      ]
    },
    {
      "cell_type": "markdown",
      "metadata": {
        "id": "ijKVRRvBUT-5",
        "colab_type": "text"
      },
      "source": [
        "### epochs=5, 5 runs\n",
        "\n",
        "no stride, bs=16, both act and bn"
      ]
    },
    {
      "cell_type": "code",
      "metadata": {
        "id": "-QXtp7Jryx_9",
        "colab_type": "code",
        "colab": {
          "base_uri": "https://localhost:8080/",
          "height": 1000
        },
        "outputId": "26194210-adc9-4e2a-e7ce-8ea8aded0843"
      },
      "source": [
        "for epochs in [5]*5:\n",
        "    mixup=0 if epochs<=20 else 0.2\n",
        "    learn = get_learn(model=model, size=128, bs=16, mixup=mixup)\n",
        "    learn.fit_fc(epochs, lr=4e-3, moms=(0.95,0.95), start_pct=0.72)\n",
        "    res += [learn.recorder.metrics[-1][0].item()]\n",
        "print([round(x, 6) for x in res], sum(res)/len(res))"
      ],
      "execution_count": null,
      "outputs": [
        {
          "output_type": "stream",
          "text": [
            "data path   /root/.fastai/data/imagewoof2\n"
          ],
          "name": "stdout"
        },
        {
          "output_type": "stream",
          "text": [
            ""
          ],
          "name": "stderr"
        },
        {
          "output_type": "stream",
          "text": [
            "Learn path /root/.fastai/data/imagewoof2\n"
          ],
          "name": "stdout"
        },
        {
          "output_type": "display_data",
          "data": {
            "text/html": [
              "<table border=\"1\" class=\"dataframe\">\n",
              "  <thead>\n",
              "    <tr style=\"text-align: left;\">\n",
              "      <th>epoch</th>\n",
              "      <th>train_loss</th>\n",
              "      <th>valid_loss</th>\n",
              "      <th>accuracy</th>\n",
              "      <th>top_k_accuracy</th>\n",
              "      <th>time</th>\n",
              "    </tr>\n",
              "  </thead>\n",
              "  <tbody>\n",
              "    <tr>\n",
              "      <td>0</td>\n",
              "      <td>1.853887</td>\n",
              "      <td>1.693871</td>\n",
              "      <td>0.475185</td>\n",
              "      <td>0.900229</td>\n",
              "      <td>03:58</td>\n",
              "    </tr>\n",
              "    <tr>\n",
              "      <td>1</td>\n",
              "      <td>1.597855</td>\n",
              "      <td>1.421064</td>\n",
              "      <td>0.609824</td>\n",
              "      <td>0.941715</td>\n",
              "      <td>03:58</td>\n",
              "    </tr>\n",
              "    <tr>\n",
              "      <td>2</td>\n",
              "      <td>1.399992</td>\n",
              "      <td>1.231845</td>\n",
              "      <td>0.699160</td>\n",
              "      <td>0.966149</td>\n",
              "      <td>03:58</td>\n",
              "    </tr>\n",
              "    <tr>\n",
              "      <td>3</td>\n",
              "      <td>1.232522</td>\n",
              "      <td>1.124027</td>\n",
              "      <td>0.758463</td>\n",
              "      <td>0.966404</td>\n",
              "      <td>03:58</td>\n",
              "    </tr>\n",
              "    <tr>\n",
              "      <td>4</td>\n",
              "      <td>1.014952</td>\n",
              "      <td>1.001750</td>\n",
              "      <td>0.815220</td>\n",
              "      <td>0.981675</td>\n",
              "      <td>03:59</td>\n",
              "    </tr>\n",
              "  </tbody>\n",
              "</table>"
            ],
            "text/plain": [
              "<IPython.core.display.HTML object>"
            ]
          },
          "metadata": {
            "tags": []
          }
        },
        {
          "output_type": "stream",
          "text": [
            ""
          ],
          "name": "stderr"
        },
        {
          "output_type": "stream",
          "text": [
            "data path   /root/.fastai/data/imagewoof2\n"
          ],
          "name": "stdout"
        },
        {
          "output_type": "stream",
          "text": [
            ""
          ],
          "name": "stderr"
        },
        {
          "output_type": "stream",
          "text": [
            "Learn path /root/.fastai/data/imagewoof2\n"
          ],
          "name": "stdout"
        },
        {
          "output_type": "display_data",
          "data": {
            "text/html": [
              "<table border=\"1\" class=\"dataframe\">\n",
              "  <thead>\n",
              "    <tr style=\"text-align: left;\">\n",
              "      <th>epoch</th>\n",
              "      <th>train_loss</th>\n",
              "      <th>valid_loss</th>\n",
              "      <th>accuracy</th>\n",
              "      <th>top_k_accuracy</th>\n",
              "      <th>time</th>\n",
              "    </tr>\n",
              "  </thead>\n",
              "  <tbody>\n",
              "    <tr>\n",
              "      <td>0</td>\n",
              "      <td>1.829890</td>\n",
              "      <td>1.758396</td>\n",
              "      <td>0.432426</td>\n",
              "      <td>0.883431</td>\n",
              "      <td>03:58</td>\n",
              "    </tr>\n",
              "    <tr>\n",
              "      <td>1</td>\n",
              "      <td>1.528203</td>\n",
              "      <td>1.495810</td>\n",
              "      <td>0.570120</td>\n",
              "      <td>0.933571</td>\n",
              "      <td>03:58</td>\n",
              "    </tr>\n",
              "    <tr>\n",
              "      <td>2</td>\n",
              "      <td>1.343309</td>\n",
              "      <td>1.279568</td>\n",
              "      <td>0.694833</td>\n",
              "      <td>0.963095</td>\n",
              "      <td>03:58</td>\n",
              "    </tr>\n",
              "    <tr>\n",
              "      <td>3</td>\n",
              "      <td>1.255255</td>\n",
              "      <td>1.147663</td>\n",
              "      <td>0.739374</td>\n",
              "      <td>0.970221</td>\n",
              "      <td>03:59</td>\n",
              "    </tr>\n",
              "    <tr>\n",
              "      <td>4</td>\n",
              "      <td>1.041715</td>\n",
              "      <td>1.004069</td>\n",
              "      <td>0.814966</td>\n",
              "      <td>0.983202</td>\n",
              "      <td>03:59</td>\n",
              "    </tr>\n",
              "  </tbody>\n",
              "</table>"
            ],
            "text/plain": [
              "<IPython.core.display.HTML object>"
            ]
          },
          "metadata": {
            "tags": []
          }
        },
        {
          "output_type": "stream",
          "text": [
            "data path   /root/.fastai/data/imagewoof2\n"
          ],
          "name": "stdout"
        },
        {
          "output_type": "stream",
          "text": [
            ""
          ],
          "name": "stderr"
        },
        {
          "output_type": "stream",
          "text": [
            "Learn path /root/.fastai/data/imagewoof2\n"
          ],
          "name": "stdout"
        },
        {
          "output_type": "display_data",
          "data": {
            "text/html": [
              "<table border=\"1\" class=\"dataframe\">\n",
              "  <thead>\n",
              "    <tr style=\"text-align: left;\">\n",
              "      <th>epoch</th>\n",
              "      <th>train_loss</th>\n",
              "      <th>valid_loss</th>\n",
              "      <th>accuracy</th>\n",
              "      <th>top_k_accuracy</th>\n",
              "      <th>time</th>\n",
              "    </tr>\n",
              "  </thead>\n",
              "  <tbody>\n",
              "    <tr>\n",
              "      <td>0</td>\n",
              "      <td>1.860970</td>\n",
              "      <td>1.700778</td>\n",
              "      <td>0.465258</td>\n",
              "      <td>0.904556</td>\n",
              "      <td>03:58</td>\n",
              "    </tr>\n",
              "    <tr>\n",
              "      <td>1</td>\n",
              "      <td>1.538369</td>\n",
              "      <td>1.375021</td>\n",
              "      <td>0.638585</td>\n",
              "      <td>0.944770</td>\n",
              "      <td>03:59</td>\n",
              "    </tr>\n",
              "    <tr>\n",
              "      <td>2</td>\n",
              "      <td>1.367675</td>\n",
              "      <td>1.224978</td>\n",
              "      <td>0.705014</td>\n",
              "      <td>0.961568</td>\n",
              "      <td>03:59</td>\n",
              "    </tr>\n",
              "    <tr>\n",
              "      <td>3</td>\n",
              "      <td>1.180613</td>\n",
              "      <td>1.094188</td>\n",
              "      <td>0.775261</td>\n",
              "      <td>0.971749</td>\n",
              "      <td>03:58</td>\n",
              "    </tr>\n",
              "    <tr>\n",
              "      <td>4</td>\n",
              "      <td>0.987883</td>\n",
              "      <td>0.977362</td>\n",
              "      <td>0.826419</td>\n",
              "      <td>0.981420</td>\n",
              "      <td>03:59</td>\n",
              "    </tr>\n",
              "  </tbody>\n",
              "</table>"
            ],
            "text/plain": [
              "<IPython.core.display.HTML object>"
            ]
          },
          "metadata": {
            "tags": []
          }
        },
        {
          "output_type": "stream",
          "text": [
            "data path   /root/.fastai/data/imagewoof2\n"
          ],
          "name": "stdout"
        },
        {
          "output_type": "stream",
          "text": [
            ""
          ],
          "name": "stderr"
        },
        {
          "output_type": "stream",
          "text": [
            "Learn path /root/.fastai/data/imagewoof2\n"
          ],
          "name": "stdout"
        },
        {
          "output_type": "display_data",
          "data": {
            "text/html": [
              "<table border=\"1\" class=\"dataframe\">\n",
              "  <thead>\n",
              "    <tr style=\"text-align: left;\">\n",
              "      <th>epoch</th>\n",
              "      <th>train_loss</th>\n",
              "      <th>valid_loss</th>\n",
              "      <th>accuracy</th>\n",
              "      <th>top_k_accuracy</th>\n",
              "      <th>time</th>\n",
              "    </tr>\n",
              "  </thead>\n",
              "  <tbody>\n",
              "    <tr>\n",
              "      <td>0</td>\n",
              "      <td>1.841401</td>\n",
              "      <td>1.678582</td>\n",
              "      <td>0.477475</td>\n",
              "      <td>0.906847</td>\n",
              "      <td>03:58</td>\n",
              "    </tr>\n",
              "    <tr>\n",
              "      <td>1</td>\n",
              "      <td>1.492334</td>\n",
              "      <td>1.419619</td>\n",
              "      <td>0.627641</td>\n",
              "      <td>0.952914</td>\n",
              "      <td>03:59</td>\n",
              "    </tr>\n",
              "    <tr>\n",
              "      <td>2</td>\n",
              "      <td>1.348735</td>\n",
              "      <td>1.279629</td>\n",
              "      <td>0.688216</td>\n",
              "      <td>0.963604</td>\n",
              "      <td>03:58</td>\n",
              "    </tr>\n",
              "    <tr>\n",
              "      <td>3</td>\n",
              "      <td>1.239337</td>\n",
              "      <td>1.132548</td>\n",
              "      <td>0.759735</td>\n",
              "      <td>0.972258</td>\n",
              "      <td>03:59</td>\n",
              "    </tr>\n",
              "    <tr>\n",
              "      <td>4</td>\n",
              "      <td>1.000990</td>\n",
              "      <td>0.989038</td>\n",
              "      <td>0.825146</td>\n",
              "      <td>0.981675</td>\n",
              "      <td>03:59</td>\n",
              "    </tr>\n",
              "  </tbody>\n",
              "</table>"
            ],
            "text/plain": [
              "<IPython.core.display.HTML object>"
            ]
          },
          "metadata": {
            "tags": []
          }
        },
        {
          "output_type": "stream",
          "text": [
            "data path   /root/.fastai/data/imagewoof2\n"
          ],
          "name": "stdout"
        },
        {
          "output_type": "stream",
          "text": [
            ""
          ],
          "name": "stderr"
        },
        {
          "output_type": "stream",
          "text": [
            "Learn path /root/.fastai/data/imagewoof2\n"
          ],
          "name": "stdout"
        },
        {
          "output_type": "display_data",
          "data": {
            "text/html": [
              "<table border=\"1\" class=\"dataframe\">\n",
              "  <thead>\n",
              "    <tr style=\"text-align: left;\">\n",
              "      <th>epoch</th>\n",
              "      <th>train_loss</th>\n",
              "      <th>valid_loss</th>\n",
              "      <th>accuracy</th>\n",
              "      <th>top_k_accuracy</th>\n",
              "      <th>time</th>\n",
              "    </tr>\n",
              "  </thead>\n",
              "  <tbody>\n",
              "    <tr>\n",
              "      <td>0</td>\n",
              "      <td>1.778878</td>\n",
              "      <td>1.642192</td>\n",
              "      <td>0.494273</td>\n",
              "      <td>0.912955</td>\n",
              "      <td>03:59</td>\n",
              "    </tr>\n",
              "    <tr>\n",
              "      <td>1</td>\n",
              "      <td>1.534141</td>\n",
              "      <td>1.428439</td>\n",
              "      <td>0.608552</td>\n",
              "      <td>0.942734</td>\n",
              "      <td>03:58</td>\n",
              "    </tr>\n",
              "    <tr>\n",
              "      <td>2</td>\n",
              "      <td>1.349526</td>\n",
              "      <td>1.314455</td>\n",
              "      <td>0.668872</td>\n",
              "      <td>0.956477</td>\n",
              "      <td>03:58</td>\n",
              "    </tr>\n",
              "    <tr>\n",
              "      <td>3</td>\n",
              "      <td>1.221146</td>\n",
              "      <td>1.120293</td>\n",
              "      <td>0.757699</td>\n",
              "      <td>0.973021</td>\n",
              "      <td>03:58</td>\n",
              "    </tr>\n",
              "    <tr>\n",
              "      <td>4</td>\n",
              "      <td>1.005900</td>\n",
              "      <td>0.979379</td>\n",
              "      <td>0.824128</td>\n",
              "      <td>0.980657</td>\n",
              "      <td>03:59</td>\n",
              "    </tr>\n",
              "  </tbody>\n",
              "</table>"
            ],
            "text/plain": [
              "<IPython.core.display.HTML object>"
            ]
          },
          "metadata": {
            "tags": []
          }
        },
        {
          "output_type": "stream",
          "text": [
            "[0.81522, 0.814966, 0.826419, 0.825146, 0.824128] 0.8211758852005004\n"
          ],
          "name": "stdout"
        }
      ]
    },
    {
      "cell_type": "markdown",
      "metadata": {
        "id": "oildNlm9mSGc",
        "colab_type": "text"
      },
      "source": [
        "### epochs=20, 5 runs\n",
        "\n",
        "no stride, bs=16, both act and bn"
      ]
    },
    {
      "cell_type": "code",
      "metadata": {
        "id": "3311lHhYs7xr",
        "colab_type": "code",
        "colab": {
          "base_uri": "https://localhost:8080/",
          "height": 1000
        },
        "outputId": "45eabfd1-507b-494d-8903-8130b7d67120"
      },
      "source": [
        "for epochs in [20]*5:\n",
        "    mixup=0 if epochs<=20 else 0.2\n",
        "    learn = get_learn(model=model, size=128, bs=16, mixup=mixup)\n",
        "    learn.fit_fc(epochs, lr=4e-3, moms=(0.95,0.95), start_pct=0.72)\n",
        "    res += [learn.recorder.metrics[-1][0].item()]\n",
        "print([round(x, 6) for x in res], sum(res)/len(res))"
      ],
      "execution_count": null,
      "outputs": [
        {
          "output_type": "stream",
          "text": [
            "data path   /root/.fastai/data/imagewoof2\n"
          ],
          "name": "stdout"
        },
        {
          "output_type": "stream",
          "text": [
            ""
          ],
          "name": "stderr"
        },
        {
          "output_type": "stream",
          "text": [
            "Learn path /root/.fastai/data/imagewoof2\n"
          ],
          "name": "stdout"
        },
        {
          "output_type": "display_data",
          "data": {
            "text/html": [
              "<table border=\"1\" class=\"dataframe\">\n",
              "  <thead>\n",
              "    <tr style=\"text-align: left;\">\n",
              "      <th>epoch</th>\n",
              "      <th>train_loss</th>\n",
              "      <th>valid_loss</th>\n",
              "      <th>accuracy</th>\n",
              "      <th>top_k_accuracy</th>\n",
              "      <th>time</th>\n",
              "    </tr>\n",
              "  </thead>\n",
              "  <tbody>\n",
              "    <tr>\n",
              "      <td>0</td>\n",
              "      <td>1.801173</td>\n",
              "      <td>1.698625</td>\n",
              "      <td>0.481547</td>\n",
              "      <td>0.901502</td>\n",
              "      <td>03:58</td>\n",
              "    </tr>\n",
              "    <tr>\n",
              "      <td>1</td>\n",
              "      <td>1.522946</td>\n",
              "      <td>1.387382</td>\n",
              "      <td>0.615933</td>\n",
              "      <td>0.950369</td>\n",
              "      <td>03:58</td>\n",
              "    </tr>\n",
              "    <tr>\n",
              "      <td>2</td>\n",
              "      <td>1.317431</td>\n",
              "      <td>1.288623</td>\n",
              "      <td>0.673963</td>\n",
              "      <td>0.955714</td>\n",
              "      <td>03:58</td>\n",
              "    </tr>\n",
              "    <tr>\n",
              "      <td>3</td>\n",
              "      <td>1.227739</td>\n",
              "      <td>1.129893</td>\n",
              "      <td>0.753881</td>\n",
              "      <td>0.970221</td>\n",
              "      <td>03:59</td>\n",
              "    </tr>\n",
              "    <tr>\n",
              "      <td>4</td>\n",
              "      <td>1.124146</td>\n",
              "      <td>1.070666</td>\n",
              "      <td>0.784424</td>\n",
              "      <td>0.976330</td>\n",
              "      <td>03:59</td>\n",
              "    </tr>\n",
              "    <tr>\n",
              "      <td>5</td>\n",
              "      <td>1.114767</td>\n",
              "      <td>1.045305</td>\n",
              "      <td>0.792823</td>\n",
              "      <td>0.975566</td>\n",
              "      <td>03:59</td>\n",
              "    </tr>\n",
              "    <tr>\n",
              "      <td>6</td>\n",
              "      <td>1.050665</td>\n",
              "      <td>1.001708</td>\n",
              "      <td>0.811402</td>\n",
              "      <td>0.976584</td>\n",
              "      <td>03:59</td>\n",
              "    </tr>\n",
              "    <tr>\n",
              "      <td>7</td>\n",
              "      <td>0.972466</td>\n",
              "      <td>0.985769</td>\n",
              "      <td>0.814966</td>\n",
              "      <td>0.983711</td>\n",
              "      <td>03:59</td>\n",
              "    </tr>\n",
              "    <tr>\n",
              "      <td>8</td>\n",
              "      <td>0.937151</td>\n",
              "      <td>0.992524</td>\n",
              "      <td>0.819292</td>\n",
              "      <td>0.980402</td>\n",
              "      <td>03:59</td>\n",
              "    </tr>\n",
              "    <tr>\n",
              "      <td>9</td>\n",
              "      <td>0.907048</td>\n",
              "      <td>0.947411</td>\n",
              "      <td>0.835073</td>\n",
              "      <td>0.980148</td>\n",
              "      <td>03:59</td>\n",
              "    </tr>\n",
              "    <tr>\n",
              "      <td>10</td>\n",
              "      <td>0.862508</td>\n",
              "      <td>0.934270</td>\n",
              "      <td>0.842963</td>\n",
              "      <td>0.981929</td>\n",
              "      <td>03:59</td>\n",
              "    </tr>\n",
              "    <tr>\n",
              "      <td>11</td>\n",
              "      <td>0.846395</td>\n",
              "      <td>0.909866</td>\n",
              "      <td>0.846780</td>\n",
              "      <td>0.980402</td>\n",
              "      <td>03:59</td>\n",
              "    </tr>\n",
              "    <tr>\n",
              "      <td>12</td>\n",
              "      <td>0.836732</td>\n",
              "      <td>0.908364</td>\n",
              "      <td>0.840672</td>\n",
              "      <td>0.984220</td>\n",
              "      <td>04:00</td>\n",
              "    </tr>\n",
              "    <tr>\n",
              "      <td>13</td>\n",
              "      <td>0.825728</td>\n",
              "      <td>0.929190</td>\n",
              "      <td>0.842454</td>\n",
              "      <td>0.981166</td>\n",
              "      <td>03:59</td>\n",
              "    </tr>\n",
              "    <tr>\n",
              "      <td>14</td>\n",
              "      <td>0.804179</td>\n",
              "      <td>0.901786</td>\n",
              "      <td>0.847544</td>\n",
              "      <td>0.987020</td>\n",
              "      <td>04:00</td>\n",
              "    </tr>\n",
              "    <tr>\n",
              "      <td>15</td>\n",
              "      <td>0.772480</td>\n",
              "      <td>0.865046</td>\n",
              "      <td>0.860779</td>\n",
              "      <td>0.983456</td>\n",
              "      <td>04:00</td>\n",
              "    </tr>\n",
              "    <tr>\n",
              "      <td>16</td>\n",
              "      <td>0.702587</td>\n",
              "      <td>0.847529</td>\n",
              "      <td>0.873505</td>\n",
              "      <td>0.984220</td>\n",
              "      <td>04:00</td>\n",
              "    </tr>\n",
              "    <tr>\n",
              "      <td>17</td>\n",
              "      <td>0.658594</td>\n",
              "      <td>0.818611</td>\n",
              "      <td>0.877577</td>\n",
              "      <td>0.984220</td>\n",
              "      <td>04:00</td>\n",
              "    </tr>\n",
              "    <tr>\n",
              "      <td>18</td>\n",
              "      <td>0.616297</td>\n",
              "      <td>0.797101</td>\n",
              "      <td>0.887503</td>\n",
              "      <td>0.984983</td>\n",
              "      <td>04:00</td>\n",
              "    </tr>\n",
              "    <tr>\n",
              "      <td>19</td>\n",
              "      <td>0.597935</td>\n",
              "      <td>0.791300</td>\n",
              "      <td>0.890303</td>\n",
              "      <td>0.984983</td>\n",
              "      <td>04:00</td>\n",
              "    </tr>\n",
              "  </tbody>\n",
              "</table>"
            ],
            "text/plain": [
              "<IPython.core.display.HTML object>"
            ]
          },
          "metadata": {
            "tags": []
          }
        },
        {
          "output_type": "stream",
          "text": [
            ""
          ],
          "name": "stderr"
        },
        {
          "output_type": "stream",
          "text": [
            "data path   /root/.fastai/data/imagewoof2\n"
          ],
          "name": "stdout"
        },
        {
          "output_type": "stream",
          "text": [
            ""
          ],
          "name": "stderr"
        },
        {
          "output_type": "stream",
          "text": [
            "Learn path /root/.fastai/data/imagewoof2\n"
          ],
          "name": "stdout"
        },
        {
          "output_type": "display_data",
          "data": {
            "text/html": [
              "<table border=\"1\" class=\"dataframe\">\n",
              "  <thead>\n",
              "    <tr style=\"text-align: left;\">\n",
              "      <th>epoch</th>\n",
              "      <th>train_loss</th>\n",
              "      <th>valid_loss</th>\n",
              "      <th>accuracy</th>\n",
              "      <th>top_k_accuracy</th>\n",
              "      <th>time</th>\n",
              "    </tr>\n",
              "  </thead>\n",
              "  <tbody>\n",
              "    <tr>\n",
              "      <td>0</td>\n",
              "      <td>1.835402</td>\n",
              "      <td>1.751453</td>\n",
              "      <td>0.438534</td>\n",
              "      <td>0.890303</td>\n",
              "      <td>03:59</td>\n",
              "    </tr>\n",
              "    <tr>\n",
              "      <td>1</td>\n",
              "      <td>1.525845</td>\n",
              "      <td>1.374969</td>\n",
              "      <td>0.634004</td>\n",
              "      <td>0.949606</td>\n",
              "      <td>03:59</td>\n",
              "    </tr>\n",
              "    <tr>\n",
              "      <td>2</td>\n",
              "      <td>1.332278</td>\n",
              "      <td>1.198569</td>\n",
              "      <td>0.716213</td>\n",
              "      <td>0.966404</td>\n",
              "      <td>03:59</td>\n",
              "    </tr>\n",
              "    <tr>\n",
              "      <td>3</td>\n",
              "      <td>1.251647</td>\n",
              "      <td>1.178239</td>\n",
              "      <td>0.726903</td>\n",
              "      <td>0.965386</td>\n",
              "      <td>03:59</td>\n",
              "    </tr>\n",
              "    <tr>\n",
              "      <td>4</td>\n",
              "      <td>1.116337</td>\n",
              "      <td>1.071907</td>\n",
              "      <td>0.775515</td>\n",
              "      <td>0.972512</td>\n",
              "      <td>03:59</td>\n",
              "    </tr>\n",
              "    <tr>\n",
              "      <td>5</td>\n",
              "      <td>1.115612</td>\n",
              "      <td>1.071130</td>\n",
              "      <td>0.774243</td>\n",
              "      <td>0.972512</td>\n",
              "      <td>03:59</td>\n",
              "    </tr>\n",
              "    <tr>\n",
              "      <td>6</td>\n",
              "      <td>1.070621</td>\n",
              "      <td>1.021311</td>\n",
              "      <td>0.797149</td>\n",
              "      <td>0.980148</td>\n",
              "      <td>03:59</td>\n",
              "    </tr>\n",
              "    <tr>\n",
              "      <td>7</td>\n",
              "      <td>0.977338</td>\n",
              "      <td>0.975542</td>\n",
              "      <td>0.818020</td>\n",
              "      <td>0.978621</td>\n",
              "      <td>03:59</td>\n",
              "    </tr>\n",
              "    <tr>\n",
              "      <td>8</td>\n",
              "      <td>0.939719</td>\n",
              "      <td>0.970199</td>\n",
              "      <td>0.813693</td>\n",
              "      <td>0.977602</td>\n",
              "      <td>03:59</td>\n",
              "    </tr>\n",
              "    <tr>\n",
              "      <td>9</td>\n",
              "      <td>0.923810</td>\n",
              "      <td>0.915703</td>\n",
              "      <td>0.847035</td>\n",
              "      <td>0.984474</td>\n",
              "      <td>03:59</td>\n",
              "    </tr>\n",
              "    <tr>\n",
              "      <td>10</td>\n",
              "      <td>0.904332</td>\n",
              "      <td>0.917038</td>\n",
              "      <td>0.848817</td>\n",
              "      <td>0.983965</td>\n",
              "      <td>04:00</td>\n",
              "    </tr>\n",
              "    <tr>\n",
              "      <td>11</td>\n",
              "      <td>0.873339</td>\n",
              "      <td>0.926113</td>\n",
              "      <td>0.834054</td>\n",
              "      <td>0.981675</td>\n",
              "      <td>04:00</td>\n",
              "    </tr>\n",
              "    <tr>\n",
              "      <td>12</td>\n",
              "      <td>0.838416</td>\n",
              "      <td>0.902836</td>\n",
              "      <td>0.846017</td>\n",
              "      <td>0.982184</td>\n",
              "      <td>04:00</td>\n",
              "    </tr>\n",
              "    <tr>\n",
              "      <td>13</td>\n",
              "      <td>0.798939</td>\n",
              "      <td>0.890053</td>\n",
              "      <td>0.848307</td>\n",
              "      <td>0.983965</td>\n",
              "      <td>03:59</td>\n",
              "    </tr>\n",
              "    <tr>\n",
              "      <td>14</td>\n",
              "      <td>0.783665</td>\n",
              "      <td>0.917445</td>\n",
              "      <td>0.841435</td>\n",
              "      <td>0.981166</td>\n",
              "      <td>04:00</td>\n",
              "    </tr>\n",
              "    <tr>\n",
              "      <td>15</td>\n",
              "      <td>0.758737</td>\n",
              "      <td>0.864056</td>\n",
              "      <td>0.868669</td>\n",
              "      <td>0.983965</td>\n",
              "      <td>04:00</td>\n",
              "    </tr>\n",
              "    <tr>\n",
              "      <td>16</td>\n",
              "      <td>0.691311</td>\n",
              "      <td>0.832460</td>\n",
              "      <td>0.869687</td>\n",
              "      <td>0.984474</td>\n",
              "      <td>04:00</td>\n",
              "    </tr>\n",
              "    <tr>\n",
              "      <td>17</td>\n",
              "      <td>0.645873</td>\n",
              "      <td>0.808865</td>\n",
              "      <td>0.882922</td>\n",
              "      <td>0.986511</td>\n",
              "      <td>04:00</td>\n",
              "    </tr>\n",
              "    <tr>\n",
              "      <td>18</td>\n",
              "      <td>0.615260</td>\n",
              "      <td>0.796047</td>\n",
              "      <td>0.888776</td>\n",
              "      <td>0.986765</td>\n",
              "      <td>04:00</td>\n",
              "    </tr>\n",
              "    <tr>\n",
              "      <td>19</td>\n",
              "      <td>0.590351</td>\n",
              "      <td>0.792283</td>\n",
              "      <td>0.889030</td>\n",
              "      <td>0.986765</td>\n",
              "      <td>04:00</td>\n",
              "    </tr>\n",
              "  </tbody>\n",
              "</table>"
            ],
            "text/plain": [
              "<IPython.core.display.HTML object>"
            ]
          },
          "metadata": {
            "tags": []
          }
        },
        {
          "output_type": "stream",
          "text": [
            "data path   /root/.fastai/data/imagewoof2\n"
          ],
          "name": "stdout"
        },
        {
          "output_type": "stream",
          "text": [
            ""
          ],
          "name": "stderr"
        },
        {
          "output_type": "stream",
          "text": [
            "Learn path /root/.fastai/data/imagewoof2\n"
          ],
          "name": "stdout"
        },
        {
          "output_type": "display_data",
          "data": {
            "text/html": [
              "<table border=\"1\" class=\"dataframe\">\n",
              "  <thead>\n",
              "    <tr style=\"text-align: left;\">\n",
              "      <th>epoch</th>\n",
              "      <th>train_loss</th>\n",
              "      <th>valid_loss</th>\n",
              "      <th>accuracy</th>\n",
              "      <th>top_k_accuracy</th>\n",
              "      <th>time</th>\n",
              "    </tr>\n",
              "  </thead>\n",
              "  <tbody>\n",
              "    <tr>\n",
              "      <td>0</td>\n",
              "      <td>1.896753</td>\n",
              "      <td>1.734423</td>\n",
              "      <td>0.455078</td>\n",
              "      <td>0.906847</td>\n",
              "      <td>04:00</td>\n",
              "    </tr>\n",
              "    <tr>\n",
              "      <td>1</td>\n",
              "      <td>1.556807</td>\n",
              "      <td>1.403181</td>\n",
              "      <td>0.618223</td>\n",
              "      <td>0.946042</td>\n",
              "      <td>03:59</td>\n",
              "    </tr>\n",
              "    <tr>\n",
              "      <td>2</td>\n",
              "      <td>1.355759</td>\n",
              "      <td>1.273733</td>\n",
              "      <td>0.685925</td>\n",
              "      <td>0.955714</td>\n",
              "      <td>04:00</td>\n",
              "    </tr>\n",
              "    <tr>\n",
              "      <td>3</td>\n",
              "      <td>1.304199</td>\n",
              "      <td>1.166618</td>\n",
              "      <td>0.747518</td>\n",
              "      <td>0.966658</td>\n",
              "      <td>04:00</td>\n",
              "    </tr>\n",
              "    <tr>\n",
              "      <td>4</td>\n",
              "      <td>1.133599</td>\n",
              "      <td>1.094989</td>\n",
              "      <td>0.770171</td>\n",
              "      <td>0.970730</td>\n",
              "      <td>04:00</td>\n",
              "    </tr>\n",
              "    <tr>\n",
              "      <td>5</td>\n",
              "      <td>1.062290</td>\n",
              "      <td>1.069088</td>\n",
              "      <td>0.787732</td>\n",
              "      <td>0.969458</td>\n",
              "      <td>04:00</td>\n",
              "    </tr>\n",
              "    <tr>\n",
              "      <td>6</td>\n",
              "      <td>1.064758</td>\n",
              "      <td>1.013650</td>\n",
              "      <td>0.802494</td>\n",
              "      <td>0.979639</td>\n",
              "      <td>04:00</td>\n",
              "    </tr>\n",
              "    <tr>\n",
              "      <td>7</td>\n",
              "      <td>0.984380</td>\n",
              "      <td>0.957368</td>\n",
              "      <td>0.833291</td>\n",
              "      <td>0.982693</td>\n",
              "      <td>04:00</td>\n",
              "    </tr>\n",
              "    <tr>\n",
              "      <td>8</td>\n",
              "      <td>0.946529</td>\n",
              "      <td>0.996385</td>\n",
              "      <td>0.807076</td>\n",
              "      <td>0.975312</td>\n",
              "      <td>04:00</td>\n",
              "    </tr>\n",
              "    <tr>\n",
              "      <td>9</td>\n",
              "      <td>0.933666</td>\n",
              "      <td>0.947251</td>\n",
              "      <td>0.823619</td>\n",
              "      <td>0.980911</td>\n",
              "      <td>04:00</td>\n",
              "    </tr>\n",
              "    <tr>\n",
              "      <td>10</td>\n",
              "      <td>0.902266</td>\n",
              "      <td>0.891157</td>\n",
              "      <td>0.851871</td>\n",
              "      <td>0.982947</td>\n",
              "      <td>04:00</td>\n",
              "    </tr>\n",
              "    <tr>\n",
              "      <td>11</td>\n",
              "      <td>0.849076</td>\n",
              "      <td>0.916943</td>\n",
              "      <td>0.843217</td>\n",
              "      <td>0.983965</td>\n",
              "      <td>04:00</td>\n",
              "    </tr>\n",
              "    <tr>\n",
              "      <td>12</td>\n",
              "      <td>0.841957</td>\n",
              "      <td>0.916682</td>\n",
              "      <td>0.845508</td>\n",
              "      <td>0.983965</td>\n",
              "      <td>04:00</td>\n",
              "    </tr>\n",
              "    <tr>\n",
              "      <td>13</td>\n",
              "      <td>0.826776</td>\n",
              "      <td>0.914348</td>\n",
              "      <td>0.840163</td>\n",
              "      <td>0.981166</td>\n",
              "      <td>04:00</td>\n",
              "    </tr>\n",
              "    <tr>\n",
              "      <td>14</td>\n",
              "      <td>0.796496</td>\n",
              "      <td>0.887805</td>\n",
              "      <td>0.847035</td>\n",
              "      <td>0.985238</td>\n",
              "      <td>04:00</td>\n",
              "    </tr>\n",
              "    <tr>\n",
              "      <td>15</td>\n",
              "      <td>0.761636</td>\n",
              "      <td>0.880433</td>\n",
              "      <td>0.860015</td>\n",
              "      <td>0.982947</td>\n",
              "      <td>04:00</td>\n",
              "    </tr>\n",
              "    <tr>\n",
              "      <td>16</td>\n",
              "      <td>0.717128</td>\n",
              "      <td>0.844493</td>\n",
              "      <td>0.875032</td>\n",
              "      <td>0.984729</td>\n",
              "      <td>04:00</td>\n",
              "    </tr>\n",
              "    <tr>\n",
              "      <td>17</td>\n",
              "      <td>0.664471</td>\n",
              "      <td>0.824797</td>\n",
              "      <td>0.880631</td>\n",
              "      <td>0.986256</td>\n",
              "      <td>04:00</td>\n",
              "    </tr>\n",
              "    <tr>\n",
              "      <td>18</td>\n",
              "      <td>0.600854</td>\n",
              "      <td>0.804497</td>\n",
              "      <td>0.885722</td>\n",
              "      <td>0.985747</td>\n",
              "      <td>04:00</td>\n",
              "    </tr>\n",
              "    <tr>\n",
              "      <td>19</td>\n",
              "      <td>0.591489</td>\n",
              "      <td>0.795916</td>\n",
              "      <td>0.890812</td>\n",
              "      <td>0.986765</td>\n",
              "      <td>04:00</td>\n",
              "    </tr>\n",
              "  </tbody>\n",
              "</table>"
            ],
            "text/plain": [
              "<IPython.core.display.HTML object>"
            ]
          },
          "metadata": {
            "tags": []
          }
        },
        {
          "output_type": "stream",
          "text": [
            "data path   /root/.fastai/data/imagewoof2\n"
          ],
          "name": "stdout"
        },
        {
          "output_type": "stream",
          "text": [
            ""
          ],
          "name": "stderr"
        },
        {
          "output_type": "stream",
          "text": [
            "Learn path /root/.fastai/data/imagewoof2\n"
          ],
          "name": "stdout"
        },
        {
          "output_type": "display_data",
          "data": {
            "text/html": [
              "<table border=\"1\" class=\"dataframe\">\n",
              "  <thead>\n",
              "    <tr style=\"text-align: left;\">\n",
              "      <th>epoch</th>\n",
              "      <th>train_loss</th>\n",
              "      <th>valid_loss</th>\n",
              "      <th>accuracy</th>\n",
              "      <th>top_k_accuracy</th>\n",
              "      <th>time</th>\n",
              "    </tr>\n",
              "  </thead>\n",
              "  <tbody>\n",
              "    <tr>\n",
              "      <td>0</td>\n",
              "      <td>1.847284</td>\n",
              "      <td>1.775889</td>\n",
              "      <td>0.440825</td>\n",
              "      <td>0.892848</td>\n",
              "      <td>04:00</td>\n",
              "    </tr>\n",
              "    <tr>\n",
              "      <td>1</td>\n",
              "      <td>1.598621</td>\n",
              "      <td>1.442757</td>\n",
              "      <td>0.600153</td>\n",
              "      <td>0.949096</td>\n",
              "      <td>04:00</td>\n",
              "    </tr>\n",
              "    <tr>\n",
              "      <td>2</td>\n",
              "      <td>1.376522</td>\n",
              "      <td>1.265322</td>\n",
              "      <td>0.691779</td>\n",
              "      <td>0.956986</td>\n",
              "      <td>04:00</td>\n",
              "    </tr>\n",
              "    <tr>\n",
              "      <td>3</td>\n",
              "      <td>1.241434</td>\n",
              "      <td>1.172649</td>\n",
              "      <td>0.734793</td>\n",
              "      <td>0.962586</td>\n",
              "      <td>04:00</td>\n",
              "    </tr>\n",
              "    <tr>\n",
              "      <td>4</td>\n",
              "      <td>1.163452</td>\n",
              "      <td>1.083677</td>\n",
              "      <td>0.776533</td>\n",
              "      <td>0.975566</td>\n",
              "      <td>04:00</td>\n",
              "    </tr>\n",
              "    <tr>\n",
              "      <td>5</td>\n",
              "      <td>1.123032</td>\n",
              "      <td>1.051371</td>\n",
              "      <td>0.790023</td>\n",
              "      <td>0.975057</td>\n",
              "      <td>04:00</td>\n",
              "    </tr>\n",
              "    <tr>\n",
              "      <td>6</td>\n",
              "      <td>1.039444</td>\n",
              "      <td>1.001302</td>\n",
              "      <td>0.803767</td>\n",
              "      <td>0.979130</td>\n",
              "      <td>04:00</td>\n",
              "    </tr>\n",
              "    <tr>\n",
              "      <td>7</td>\n",
              "      <td>1.000067</td>\n",
              "      <td>0.971766</td>\n",
              "      <td>0.819292</td>\n",
              "      <td>0.982184</td>\n",
              "      <td>04:00</td>\n",
              "    </tr>\n",
              "    <tr>\n",
              "      <td>8</td>\n",
              "      <td>0.963111</td>\n",
              "      <td>1.012285</td>\n",
              "      <td>0.798167</td>\n",
              "      <td>0.975057</td>\n",
              "      <td>03:59</td>\n",
              "    </tr>\n",
              "    <tr>\n",
              "      <td>9</td>\n",
              "      <td>0.957597</td>\n",
              "      <td>0.925587</td>\n",
              "      <td>0.838381</td>\n",
              "      <td>0.982693</td>\n",
              "      <td>03:59</td>\n",
              "    </tr>\n",
              "    <tr>\n",
              "      <td>10</td>\n",
              "      <td>0.934487</td>\n",
              "      <td>0.912390</td>\n",
              "      <td>0.840163</td>\n",
              "      <td>0.986002</td>\n",
              "      <td>03:59</td>\n",
              "    </tr>\n",
              "    <tr>\n",
              "      <td>11</td>\n",
              "      <td>0.895036</td>\n",
              "      <td>0.937479</td>\n",
              "      <td>0.838381</td>\n",
              "      <td>0.980148</td>\n",
              "      <td>03:59</td>\n",
              "    </tr>\n",
              "    <tr>\n",
              "      <td>12</td>\n",
              "      <td>0.843416</td>\n",
              "      <td>0.913154</td>\n",
              "      <td>0.843726</td>\n",
              "      <td>0.983711</td>\n",
              "      <td>03:59</td>\n",
              "    </tr>\n",
              "    <tr>\n",
              "      <td>13</td>\n",
              "      <td>0.832364</td>\n",
              "      <td>0.910965</td>\n",
              "      <td>0.847289</td>\n",
              "      <td>0.981420</td>\n",
              "      <td>03:59</td>\n",
              "    </tr>\n",
              "    <tr>\n",
              "      <td>14</td>\n",
              "      <td>0.800173</td>\n",
              "      <td>0.899453</td>\n",
              "      <td>0.850853</td>\n",
              "      <td>0.981675</td>\n",
              "      <td>04:00</td>\n",
              "    </tr>\n",
              "    <tr>\n",
              "      <td>15</td>\n",
              "      <td>0.773511</td>\n",
              "      <td>0.871832</td>\n",
              "      <td>0.858743</td>\n",
              "      <td>0.985238</td>\n",
              "      <td>04:00</td>\n",
              "    </tr>\n",
              "    <tr>\n",
              "      <td>16</td>\n",
              "      <td>0.683821</td>\n",
              "      <td>0.836487</td>\n",
              "      <td>0.868923</td>\n",
              "      <td>0.985492</td>\n",
              "      <td>04:00</td>\n",
              "    </tr>\n",
              "    <tr>\n",
              "      <td>17</td>\n",
              "      <td>0.653340</td>\n",
              "      <td>0.814082</td>\n",
              "      <td>0.880122</td>\n",
              "      <td>0.987529</td>\n",
              "      <td>04:00</td>\n",
              "    </tr>\n",
              "    <tr>\n",
              "      <td>18</td>\n",
              "      <td>0.599655</td>\n",
              "      <td>0.795683</td>\n",
              "      <td>0.888521</td>\n",
              "      <td>0.987274</td>\n",
              "      <td>04:00</td>\n",
              "    </tr>\n",
              "    <tr>\n",
              "      <td>19</td>\n",
              "      <td>0.587210</td>\n",
              "      <td>0.791757</td>\n",
              "      <td>0.890048</td>\n",
              "      <td>0.988038</td>\n",
              "      <td>04:00</td>\n",
              "    </tr>\n",
              "  </tbody>\n",
              "</table>"
            ],
            "text/plain": [
              "<IPython.core.display.HTML object>"
            ]
          },
          "metadata": {
            "tags": []
          }
        },
        {
          "output_type": "stream",
          "text": [
            "data path   /root/.fastai/data/imagewoof2\n"
          ],
          "name": "stdout"
        },
        {
          "output_type": "stream",
          "text": [
            ""
          ],
          "name": "stderr"
        },
        {
          "output_type": "stream",
          "text": [
            "Learn path /root/.fastai/data/imagewoof2\n"
          ],
          "name": "stdout"
        },
        {
          "output_type": "display_data",
          "data": {
            "text/html": [
              "<table border=\"1\" class=\"dataframe\">\n",
              "  <thead>\n",
              "    <tr style=\"text-align: left;\">\n",
              "      <th>epoch</th>\n",
              "      <th>train_loss</th>\n",
              "      <th>valid_loss</th>\n",
              "      <th>accuracy</th>\n",
              "      <th>top_k_accuracy</th>\n",
              "      <th>time</th>\n",
              "    </tr>\n",
              "  </thead>\n",
              "  <tbody>\n",
              "    <tr>\n",
              "      <td>0</td>\n",
              "      <td>1.863371</td>\n",
              "      <td>1.890844</td>\n",
              "      <td>0.407228</td>\n",
              "      <td>0.878595</td>\n",
              "      <td>03:59</td>\n",
              "    </tr>\n",
              "    <tr>\n",
              "      <td>1</td>\n",
              "      <td>1.587108</td>\n",
              "      <td>1.468102</td>\n",
              "      <td>0.586663</td>\n",
              "      <td>0.942988</td>\n",
              "      <td>04:00</td>\n",
              "    </tr>\n",
              "    <tr>\n",
              "      <td>2</td>\n",
              "      <td>1.399580</td>\n",
              "      <td>1.308397</td>\n",
              "      <td>0.661491</td>\n",
              "      <td>0.957496</td>\n",
              "      <td>04:00</td>\n",
              "    </tr>\n",
              "    <tr>\n",
              "      <td>3</td>\n",
              "      <td>1.273798</td>\n",
              "      <td>1.182499</td>\n",
              "      <td>0.730466</td>\n",
              "      <td>0.966149</td>\n",
              "      <td>03:59</td>\n",
              "    </tr>\n",
              "    <tr>\n",
              "      <td>4</td>\n",
              "      <td>1.181075</td>\n",
              "      <td>1.145160</td>\n",
              "      <td>0.740392</td>\n",
              "      <td>0.969712</td>\n",
              "      <td>03:59</td>\n",
              "    </tr>\n",
              "    <tr>\n",
              "      <td>5</td>\n",
              "      <td>1.089572</td>\n",
              "      <td>1.120198</td>\n",
              "      <td>0.752609</td>\n",
              "      <td>0.973021</td>\n",
              "      <td>04:00</td>\n",
              "    </tr>\n",
              "    <tr>\n",
              "      <td>6</td>\n",
              "      <td>1.049326</td>\n",
              "      <td>1.013096</td>\n",
              "      <td>0.798422</td>\n",
              "      <td>0.979893</td>\n",
              "      <td>03:59</td>\n",
              "    </tr>\n",
              "    <tr>\n",
              "      <td>7</td>\n",
              "      <td>1.028194</td>\n",
              "      <td>1.039928</td>\n",
              "      <td>0.796131</td>\n",
              "      <td>0.974548</td>\n",
              "      <td>03:59</td>\n",
              "    </tr>\n",
              "    <tr>\n",
              "      <td>8</td>\n",
              "      <td>0.965961</td>\n",
              "      <td>0.990829</td>\n",
              "      <td>0.812420</td>\n",
              "      <td>0.976075</td>\n",
              "      <td>03:59</td>\n",
              "    </tr>\n",
              "    <tr>\n",
              "      <td>9</td>\n",
              "      <td>0.950209</td>\n",
              "      <td>0.971756</td>\n",
              "      <td>0.817765</td>\n",
              "      <td>0.980657</td>\n",
              "      <td>04:00</td>\n",
              "    </tr>\n",
              "    <tr>\n",
              "      <td>10</td>\n",
              "      <td>0.904815</td>\n",
              "      <td>0.919368</td>\n",
              "      <td>0.837872</td>\n",
              "      <td>0.985492</td>\n",
              "      <td>04:00</td>\n",
              "    </tr>\n",
              "    <tr>\n",
              "      <td>11</td>\n",
              "      <td>0.891796</td>\n",
              "      <td>0.939258</td>\n",
              "      <td>0.830746</td>\n",
              "      <td>0.979384</td>\n",
              "      <td>04:00</td>\n",
              "    </tr>\n",
              "    <tr>\n",
              "      <td>12</td>\n",
              "      <td>0.867844</td>\n",
              "      <td>0.933804</td>\n",
              "      <td>0.844490</td>\n",
              "      <td>0.982438</td>\n",
              "      <td>04:00</td>\n",
              "    </tr>\n",
              "    <tr>\n",
              "      <td>13</td>\n",
              "      <td>0.824619</td>\n",
              "      <td>0.910123</td>\n",
              "      <td>0.841435</td>\n",
              "      <td>0.986256</td>\n",
              "      <td>03:59</td>\n",
              "    </tr>\n",
              "    <tr>\n",
              "      <td>14</td>\n",
              "      <td>0.825055</td>\n",
              "      <td>0.897995</td>\n",
              "      <td>0.848307</td>\n",
              "      <td>0.982947</td>\n",
              "      <td>04:00</td>\n",
              "    </tr>\n",
              "    <tr>\n",
              "      <td>15</td>\n",
              "      <td>0.756313</td>\n",
              "      <td>0.856059</td>\n",
              "      <td>0.864088</td>\n",
              "      <td>0.983965</td>\n",
              "      <td>03:59</td>\n",
              "    </tr>\n",
              "    <tr>\n",
              "      <td>16</td>\n",
              "      <td>0.710556</td>\n",
              "      <td>0.845270</td>\n",
              "      <td>0.868160</td>\n",
              "      <td>0.985238</td>\n",
              "      <td>04:00</td>\n",
              "    </tr>\n",
              "    <tr>\n",
              "      <td>17</td>\n",
              "      <td>0.641457</td>\n",
              "      <td>0.815228</td>\n",
              "      <td>0.880886</td>\n",
              "      <td>0.987274</td>\n",
              "      <td>04:00</td>\n",
              "    </tr>\n",
              "    <tr>\n",
              "      <td>18</td>\n",
              "      <td>0.611482</td>\n",
              "      <td>0.800236</td>\n",
              "      <td>0.886740</td>\n",
              "      <td>0.986511</td>\n",
              "      <td>04:00</td>\n",
              "    </tr>\n",
              "    <tr>\n",
              "      <td>19</td>\n",
              "      <td>0.603008</td>\n",
              "      <td>0.797522</td>\n",
              "      <td>0.886231</td>\n",
              "      <td>0.986765</td>\n",
              "      <td>04:00</td>\n",
              "    </tr>\n",
              "  </tbody>\n",
              "</table>"
            ],
            "text/plain": [
              "<IPython.core.display.HTML object>"
            ]
          },
          "metadata": {
            "tags": []
          }
        },
        {
          "output_type": "stream",
          "text": [
            "[0.890303, 0.88903, 0.890812, 0.890048, 0.886231] 0.8892848134040833\n"
          ],
          "name": "stdout"
        }
      ]
    },
    {
      "cell_type": "markdown",
      "metadata": {
        "id": "PzuNBPY1m-LI",
        "colab_type": "text"
      },
      "source": [
        "### epochs=80, 1 run\n",
        "\n",
        "no stride, bs=16, both act and bn"
      ]
    },
    {
      "cell_type": "code",
      "metadata": {
        "id": "AVm4wdySMLo_",
        "colab_type": "code",
        "colab": {}
      },
      "source": [
        "for epochs in [80]:\n",
        "    mixup=0 if epochs<=20 else 0.2\n",
        "    learn = get_learn(model=model, size=128, bs=16, mixup=mixup)\n",
        "    learn.fit_fc(epochs, lr=4e-3, moms=(0.95,0.95), start_pct=0.72)\n",
        "    res += [learn.recorder.metrics[-1][0].item()]\n",
        "print([round(x, 6) for x in res], sum(res)/len(res))"
      ],
      "execution_count": null,
      "outputs": []
    },
    {
      "cell_type": "markdown",
      "metadata": {
        "id": "m1an0AYCjLOF",
        "colab_type": "text"
      },
      "source": [
        "## size=192"
      ]
    },
    {
      "cell_type": "markdown",
      "metadata": {
        "id": "DoFhBmfDGfh3",
        "colab_type": "text"
      },
      "source": [
        "### epochs=5, 5 runs\n",
        "\n",
        "no stride, bs=16, act=False, bn=False"
      ]
    },
    {
      "cell_type": "code",
      "metadata": {
        "id": "iHyM9KildGdV",
        "colab_type": "code",
        "colab": {
          "base_uri": "https://localhost:8080/",
          "height": 1000
        },
        "outputId": "7f261dba-4c91-4b93-b452-d87910ab2cef"
      },
      "source": [
        "for epochs in [5]*5:\n",
        "    mixup=0 if epochs<=20 else 0.2\n",
        "    learn = get_learn(model=model, size=192, bs=16, mixup=mixup)\n",
        "    learn.fit_fc(epochs, lr=4e-3, moms=(0.95,0.95), start_pct=0.72)\n",
        "    res += [learn.recorder.metrics[-1][0].item()]\n",
        "print([round(x, 6) for x in res], sum(res)/len(res))"
      ],
      "execution_count": null,
      "outputs": [
        {
          "output_type": "stream",
          "text": [
            "data path   /root/.fastai/data/imagewoof2\n"
          ],
          "name": "stdout"
        },
        {
          "output_type": "stream",
          "text": [
            ""
          ],
          "name": "stderr"
        },
        {
          "output_type": "stream",
          "text": [
            "Learn path /root/.fastai/data/imagewoof2\n"
          ],
          "name": "stdout"
        },
        {
          "output_type": "display_data",
          "data": {
            "text/html": [
              "<table border=\"1\" class=\"dataframe\">\n",
              "  <thead>\n",
              "    <tr style=\"text-align: left;\">\n",
              "      <th>epoch</th>\n",
              "      <th>train_loss</th>\n",
              "      <th>valid_loss</th>\n",
              "      <th>accuracy</th>\n",
              "      <th>top_k_accuracy</th>\n",
              "      <th>time</th>\n",
              "    </tr>\n",
              "  </thead>\n",
              "  <tbody>\n",
              "    <tr>\n",
              "      <td>0</td>\n",
              "      <td>1.856656</td>\n",
              "      <td>1.887479</td>\n",
              "      <td>0.400611</td>\n",
              "      <td>0.835836</td>\n",
              "      <td>07:11</td>\n",
              "    </tr>\n",
              "    <tr>\n",
              "      <td>1</td>\n",
              "      <td>1.616110</td>\n",
              "      <td>1.414912</td>\n",
              "      <td>0.620005</td>\n",
              "      <td>0.937898</td>\n",
              "      <td>07:11</td>\n",
              "    </tr>\n",
              "    <tr>\n",
              "      <td>2</td>\n",
              "      <td>1.392715</td>\n",
              "      <td>1.291010</td>\n",
              "      <td>0.676508</td>\n",
              "      <td>0.959786</td>\n",
              "      <td>07:11</td>\n",
              "    </tr>\n",
              "    <tr>\n",
              "      <td>3</td>\n",
              "      <td>1.269173</td>\n",
              "      <td>1.158866</td>\n",
              "      <td>0.738356</td>\n",
              "      <td>0.969203</td>\n",
              "      <td>07:11</td>\n",
              "    </tr>\n",
              "    <tr>\n",
              "      <td>4</td>\n",
              "      <td>1.050011</td>\n",
              "      <td>1.002696</td>\n",
              "      <td>0.822601</td>\n",
              "      <td>0.982438</td>\n",
              "      <td>07:11</td>\n",
              "    </tr>\n",
              "  </tbody>\n",
              "</table>"
            ],
            "text/plain": [
              "<IPython.core.display.HTML object>"
            ]
          },
          "metadata": {
            "tags": []
          }
        },
        {
          "output_type": "stream",
          "text": [
            ""
          ],
          "name": "stderr"
        },
        {
          "output_type": "stream",
          "text": [
            "data path   /root/.fastai/data/imagewoof2\n"
          ],
          "name": "stdout"
        },
        {
          "output_type": "stream",
          "text": [
            ""
          ],
          "name": "stderr"
        },
        {
          "output_type": "stream",
          "text": [
            "Learn path /root/.fastai/data/imagewoof2\n"
          ],
          "name": "stdout"
        },
        {
          "output_type": "display_data",
          "data": {
            "text/html": [
              "<table border=\"1\" class=\"dataframe\">\n",
              "  <thead>\n",
              "    <tr style=\"text-align: left;\">\n",
              "      <th>epoch</th>\n",
              "      <th>train_loss</th>\n",
              "      <th>valid_loss</th>\n",
              "      <th>accuracy</th>\n",
              "      <th>top_k_accuracy</th>\n",
              "      <th>time</th>\n",
              "    </tr>\n",
              "  </thead>\n",
              "  <tbody>\n",
              "    <tr>\n",
              "      <td>0</td>\n",
              "      <td>1.844413</td>\n",
              "      <td>1.741399</td>\n",
              "      <td>0.445915</td>\n",
              "      <td>0.896920</td>\n",
              "      <td>07:11</td>\n",
              "    </tr>\n",
              "    <tr>\n",
              "      <td>1</td>\n",
              "      <td>1.561381</td>\n",
              "      <td>1.435193</td>\n",
              "      <td>0.601425</td>\n",
              "      <td>0.941970</td>\n",
              "      <td>07:11</td>\n",
              "    </tr>\n",
              "    <tr>\n",
              "      <td>2</td>\n",
              "      <td>1.398485</td>\n",
              "      <td>1.278045</td>\n",
              "      <td>0.679053</td>\n",
              "      <td>0.960041</td>\n",
              "      <td>07:11</td>\n",
              "    </tr>\n",
              "    <tr>\n",
              "      <td>3</td>\n",
              "      <td>1.272492</td>\n",
              "      <td>1.132732</td>\n",
              "      <td>0.754136</td>\n",
              "      <td>0.971494</td>\n",
              "      <td>07:11</td>\n",
              "    </tr>\n",
              "    <tr>\n",
              "      <td>4</td>\n",
              "      <td>1.058501</td>\n",
              "      <td>1.011058</td>\n",
              "      <td>0.813184</td>\n",
              "      <td>0.979384</td>\n",
              "      <td>07:11</td>\n",
              "    </tr>\n",
              "  </tbody>\n",
              "</table>"
            ],
            "text/plain": [
              "<IPython.core.display.HTML object>"
            ]
          },
          "metadata": {
            "tags": []
          }
        },
        {
          "output_type": "stream",
          "text": [
            ""
          ],
          "name": "stderr"
        },
        {
          "output_type": "stream",
          "text": [
            "data path   /root/.fastai/data/imagewoof2\n"
          ],
          "name": "stdout"
        },
        {
          "output_type": "stream",
          "text": [
            ""
          ],
          "name": "stderr"
        },
        {
          "output_type": "stream",
          "text": [
            "Learn path /root/.fastai/data/imagewoof2\n"
          ],
          "name": "stdout"
        },
        {
          "output_type": "display_data",
          "data": {
            "text/html": [
              "<table border=\"1\" class=\"dataframe\">\n",
              "  <thead>\n",
              "    <tr style=\"text-align: left;\">\n",
              "      <th>epoch</th>\n",
              "      <th>train_loss</th>\n",
              "      <th>valid_loss</th>\n",
              "      <th>accuracy</th>\n",
              "      <th>top_k_accuracy</th>\n",
              "      <th>time</th>\n",
              "    </tr>\n",
              "  </thead>\n",
              "  <tbody>\n",
              "    <tr>\n",
              "      <td>0</td>\n",
              "      <td>1.845423</td>\n",
              "      <td>1.730929</td>\n",
              "      <td>0.465258</td>\n",
              "      <td>0.905319</td>\n",
              "      <td>07:11</td>\n",
              "    </tr>\n",
              "    <tr>\n",
              "      <td>1</td>\n",
              "      <td>1.535990</td>\n",
              "      <td>1.419719</td>\n",
              "      <td>0.618223</td>\n",
              "      <td>0.943497</td>\n",
              "      <td>07:10</td>\n",
              "    </tr>\n",
              "    <tr>\n",
              "      <td>2</td>\n",
              "      <td>1.377856</td>\n",
              "      <td>1.211514</td>\n",
              "      <td>0.715449</td>\n",
              "      <td>0.961059</td>\n",
              "      <td>07:11</td>\n",
              "    </tr>\n",
              "    <tr>\n",
              "      <td>3</td>\n",
              "      <td>1.239511</td>\n",
              "      <td>1.131984</td>\n",
              "      <td>0.749046</td>\n",
              "      <td>0.972003</td>\n",
              "      <td>07:11</td>\n",
              "    </tr>\n",
              "    <tr>\n",
              "      <td>4</td>\n",
              "      <td>1.064996</td>\n",
              "      <td>1.000053</td>\n",
              "      <td>0.813948</td>\n",
              "      <td>0.983202</td>\n",
              "      <td>07:11</td>\n",
              "    </tr>\n",
              "  </tbody>\n",
              "</table>"
            ],
            "text/plain": [
              "<IPython.core.display.HTML object>"
            ]
          },
          "metadata": {
            "tags": []
          }
        },
        {
          "output_type": "stream",
          "text": [
            ""
          ],
          "name": "stderr"
        },
        {
          "output_type": "stream",
          "text": [
            "data path   /root/.fastai/data/imagewoof2\n"
          ],
          "name": "stdout"
        },
        {
          "output_type": "stream",
          "text": [
            ""
          ],
          "name": "stderr"
        },
        {
          "output_type": "stream",
          "text": [
            "Learn path /root/.fastai/data/imagewoof2\n"
          ],
          "name": "stdout"
        },
        {
          "output_type": "display_data",
          "data": {
            "text/html": [
              "<table border=\"1\" class=\"dataframe\">\n",
              "  <thead>\n",
              "    <tr style=\"text-align: left;\">\n",
              "      <th>epoch</th>\n",
              "      <th>train_loss</th>\n",
              "      <th>valid_loss</th>\n",
              "      <th>accuracy</th>\n",
              "      <th>top_k_accuracy</th>\n",
              "      <th>time</th>\n",
              "    </tr>\n",
              "  </thead>\n",
              "  <tbody>\n",
              "    <tr>\n",
              "      <td>0</td>\n",
              "      <td>1.850057</td>\n",
              "      <td>1.804008</td>\n",
              "      <td>0.418682</td>\n",
              "      <td>0.886740</td>\n",
              "      <td>07:10</td>\n",
              "    </tr>\n",
              "    <tr>\n",
              "      <td>1</td>\n",
              "      <td>1.552947</td>\n",
              "      <td>1.442660</td>\n",
              "      <td>0.597098</td>\n",
              "      <td>0.942479</td>\n",
              "      <td>07:11</td>\n",
              "    </tr>\n",
              "    <tr>\n",
              "      <td>2</td>\n",
              "      <td>1.384726</td>\n",
              "      <td>1.285309</td>\n",
              "      <td>0.679053</td>\n",
              "      <td>0.959023</td>\n",
              "      <td>07:10</td>\n",
              "    </tr>\n",
              "    <tr>\n",
              "      <td>3</td>\n",
              "      <td>1.249545</td>\n",
              "      <td>1.141736</td>\n",
              "      <td>0.743701</td>\n",
              "      <td>0.972258</td>\n",
              "      <td>07:11</td>\n",
              "    </tr>\n",
              "    <tr>\n",
              "      <td>4</td>\n",
              "      <td>1.064263</td>\n",
              "      <td>1.000224</td>\n",
              "      <td>0.822856</td>\n",
              "      <td>0.975566</td>\n",
              "      <td>07:11</td>\n",
              "    </tr>\n",
              "  </tbody>\n",
              "</table>"
            ],
            "text/plain": [
              "<IPython.core.display.HTML object>"
            ]
          },
          "metadata": {
            "tags": []
          }
        },
        {
          "output_type": "stream",
          "text": [
            ""
          ],
          "name": "stderr"
        },
        {
          "output_type": "stream",
          "text": [
            "data path   /root/.fastai/data/imagewoof2\n"
          ],
          "name": "stdout"
        },
        {
          "output_type": "stream",
          "text": [
            ""
          ],
          "name": "stderr"
        },
        {
          "output_type": "stream",
          "text": [
            "Learn path /root/.fastai/data/imagewoof2\n"
          ],
          "name": "stdout"
        },
        {
          "output_type": "display_data",
          "data": {
            "text/html": [
              "<table border=\"1\" class=\"dataframe\">\n",
              "  <thead>\n",
              "    <tr style=\"text-align: left;\">\n",
              "      <th>epoch</th>\n",
              "      <th>train_loss</th>\n",
              "      <th>valid_loss</th>\n",
              "      <th>accuracy</th>\n",
              "      <th>top_k_accuracy</th>\n",
              "      <th>time</th>\n",
              "    </tr>\n",
              "  </thead>\n",
              "  <tbody>\n",
              "    <tr>\n",
              "      <td>0</td>\n",
              "      <td>1.851692</td>\n",
              "      <td>1.754275</td>\n",
              "      <td>0.448206</td>\n",
              "      <td>0.880122</td>\n",
              "      <td>07:10</td>\n",
              "    </tr>\n",
              "    <tr>\n",
              "      <td>1</td>\n",
              "      <td>1.579250</td>\n",
              "      <td>1.476122</td>\n",
              "      <td>0.580300</td>\n",
              "      <td>0.939679</td>\n",
              "      <td>07:11</td>\n",
              "    </tr>\n",
              "    <tr>\n",
              "      <td>2</td>\n",
              "      <td>1.406376</td>\n",
              "      <td>1.354866</td>\n",
              "      <td>0.640366</td>\n",
              "      <td>0.956477</td>\n",
              "      <td>07:11</td>\n",
              "    </tr>\n",
              "    <tr>\n",
              "      <td>3</td>\n",
              "      <td>1.256694</td>\n",
              "      <td>1.167863</td>\n",
              "      <td>0.746246</td>\n",
              "      <td>0.968694</td>\n",
              "      <td>07:11</td>\n",
              "    </tr>\n",
              "    <tr>\n",
              "      <td>4</td>\n",
              "      <td>1.020720</td>\n",
              "      <td>1.003255</td>\n",
              "      <td>0.817002</td>\n",
              "      <td>0.981420</td>\n",
              "      <td>07:11</td>\n",
              "    </tr>\n",
              "  </tbody>\n",
              "</table>"
            ],
            "text/plain": [
              "<IPython.core.display.HTML object>"
            ]
          },
          "metadata": {
            "tags": []
          }
        },
        {
          "output_type": "stream",
          "text": [
            ""
          ],
          "name": "stderr"
        },
        {
          "output_type": "stream",
          "text": [
            "[0.822601, 0.813184, 0.813948, 0.822856, 0.817002] 0.8179180502891541\n"
          ],
          "name": "stdout"
        }
      ]
    },
    {
      "cell_type": "markdown",
      "metadata": {
        "id": "MxZ_Ot0ukmmk",
        "colab_type": "text"
      },
      "source": [
        "no stride, bs=16, act=True, bn=False"
      ]
    },
    {
      "cell_type": "code",
      "metadata": {
        "id": "GZZJUufChTja",
        "colab_type": "code",
        "colab": {
          "base_uri": "https://localhost:8080/",
          "height": 1000
        },
        "outputId": "db049bdc-1cdf-4ed7-896b-6a8eba24dfd3"
      },
      "source": [
        "for epochs in [5]*5:\n",
        "    mixup=0 if epochs<=20 else 0.2\n",
        "    learn = get_learn(model=model, size=192, bs=16, mixup=mixup)\n",
        "    learn.fit_fc(epochs, lr=4e-3, moms=(0.95,0.95), start_pct=0.72)\n",
        "    res += [learn.recorder.metrics[-1][0].item()]\n",
        "print([round(x, 6) for x in res], sum(res)/len(res))"
      ],
      "execution_count": null,
      "outputs": [
        {
          "output_type": "stream",
          "text": [
            "data path   /root/.fastai/data/imagewoof2\n"
          ],
          "name": "stdout"
        },
        {
          "output_type": "stream",
          "text": [
            ""
          ],
          "name": "stderr"
        },
        {
          "output_type": "stream",
          "text": [
            "Learn path /root/.fastai/data/imagewoof2\n"
          ],
          "name": "stdout"
        },
        {
          "output_type": "display_data",
          "data": {
            "text/html": [
              "<table border=\"1\" class=\"dataframe\">\n",
              "  <thead>\n",
              "    <tr style=\"text-align: left;\">\n",
              "      <th>epoch</th>\n",
              "      <th>train_loss</th>\n",
              "      <th>valid_loss</th>\n",
              "      <th>accuracy</th>\n",
              "      <th>top_k_accuracy</th>\n",
              "      <th>time</th>\n",
              "    </tr>\n",
              "  </thead>\n",
              "  <tbody>\n",
              "    <tr>\n",
              "      <td>0</td>\n",
              "      <td>1.816367</td>\n",
              "      <td>1.742989</td>\n",
              "      <td>0.460932</td>\n",
              "      <td>0.905574</td>\n",
              "      <td>07:18</td>\n",
              "    </tr>\n",
              "    <tr>\n",
              "      <td>1</td>\n",
              "      <td>1.570518</td>\n",
              "      <td>1.470981</td>\n",
              "      <td>0.579537</td>\n",
              "      <td>0.946806</td>\n",
              "      <td>07:19</td>\n",
              "    </tr>\n",
              "    <tr>\n",
              "      <td>2</td>\n",
              "      <td>1.335072</td>\n",
              "      <td>1.309832</td>\n",
              "      <td>0.661237</td>\n",
              "      <td>0.957496</td>\n",
              "      <td>07:18</td>\n",
              "    </tr>\n",
              "    <tr>\n",
              "      <td>3</td>\n",
              "      <td>1.251946</td>\n",
              "      <td>1.125895</td>\n",
              "      <td>0.758972</td>\n",
              "      <td>0.973021</td>\n",
              "      <td>07:18</td>\n",
              "    </tr>\n",
              "    <tr>\n",
              "      <td>4</td>\n",
              "      <td>1.014469</td>\n",
              "      <td>0.983681</td>\n",
              "      <td>0.824637</td>\n",
              "      <td>0.981675</td>\n",
              "      <td>07:18</td>\n",
              "    </tr>\n",
              "  </tbody>\n",
              "</table>"
            ],
            "text/plain": [
              "<IPython.core.display.HTML object>"
            ]
          },
          "metadata": {
            "tags": []
          }
        },
        {
          "output_type": "stream",
          "text": [
            ""
          ],
          "name": "stderr"
        },
        {
          "output_type": "stream",
          "text": [
            "data path   /root/.fastai/data/imagewoof2\n"
          ],
          "name": "stdout"
        },
        {
          "output_type": "stream",
          "text": [
            ""
          ],
          "name": "stderr"
        },
        {
          "output_type": "stream",
          "text": [
            "Learn path /root/.fastai/data/imagewoof2\n"
          ],
          "name": "stdout"
        },
        {
          "output_type": "display_data",
          "data": {
            "text/html": [
              "<table border=\"1\" class=\"dataframe\">\n",
              "  <thead>\n",
              "    <tr style=\"text-align: left;\">\n",
              "      <th>epoch</th>\n",
              "      <th>train_loss</th>\n",
              "      <th>valid_loss</th>\n",
              "      <th>accuracy</th>\n",
              "      <th>top_k_accuracy</th>\n",
              "      <th>time</th>\n",
              "    </tr>\n",
              "  </thead>\n",
              "  <tbody>\n",
              "    <tr>\n",
              "      <td>0</td>\n",
              "      <td>1.812879</td>\n",
              "      <td>1.758666</td>\n",
              "      <td>0.453041</td>\n",
              "      <td>0.890812</td>\n",
              "      <td>07:18</td>\n",
              "    </tr>\n",
              "    <tr>\n",
              "      <td>1</td>\n",
              "      <td>1.553075</td>\n",
              "      <td>1.417638</td>\n",
              "      <td>0.613642</td>\n",
              "      <td>0.945788</td>\n",
              "      <td>07:18</td>\n",
              "    </tr>\n",
              "    <tr>\n",
              "      <td>2</td>\n",
              "      <td>1.365519</td>\n",
              "      <td>1.280960</td>\n",
              "      <td>0.685671</td>\n",
              "      <td>0.955205</td>\n",
              "      <td>07:18</td>\n",
              "    </tr>\n",
              "    <tr>\n",
              "      <td>3</td>\n",
              "      <td>1.200144</td>\n",
              "      <td>1.240493</td>\n",
              "      <td>0.729702</td>\n",
              "      <td>0.970476</td>\n",
              "      <td>07:18</td>\n",
              "    </tr>\n",
              "    <tr>\n",
              "      <td>4</td>\n",
              "      <td>1.026837</td>\n",
              "      <td>0.980040</td>\n",
              "      <td>0.829473</td>\n",
              "      <td>0.981166</td>\n",
              "      <td>07:19</td>\n",
              "    </tr>\n",
              "  </tbody>\n",
              "</table>"
            ],
            "text/plain": [
              "<IPython.core.display.HTML object>"
            ]
          },
          "metadata": {
            "tags": []
          }
        },
        {
          "output_type": "stream",
          "text": [
            ""
          ],
          "name": "stderr"
        },
        {
          "output_type": "stream",
          "text": [
            "data path   /root/.fastai/data/imagewoof2\n"
          ],
          "name": "stdout"
        },
        {
          "output_type": "stream",
          "text": [
            ""
          ],
          "name": "stderr"
        },
        {
          "output_type": "stream",
          "text": [
            "Learn path /root/.fastai/data/imagewoof2\n"
          ],
          "name": "stdout"
        },
        {
          "output_type": "display_data",
          "data": {
            "text/html": [
              "<table border=\"1\" class=\"dataframe\">\n",
              "  <thead>\n",
              "    <tr style=\"text-align: left;\">\n",
              "      <th>epoch</th>\n",
              "      <th>train_loss</th>\n",
              "      <th>valid_loss</th>\n",
              "      <th>accuracy</th>\n",
              "      <th>top_k_accuracy</th>\n",
              "      <th>time</th>\n",
              "    </tr>\n",
              "  </thead>\n",
              "  <tbody>\n",
              "    <tr>\n",
              "      <td>0</td>\n",
              "      <td>1.844059</td>\n",
              "      <td>1.720307</td>\n",
              "      <td>0.466785</td>\n",
              "      <td>0.901502</td>\n",
              "      <td>07:18</td>\n",
              "    </tr>\n",
              "    <tr>\n",
              "      <td>1</td>\n",
              "      <td>1.598753</td>\n",
              "      <td>1.470148</td>\n",
              "      <td>0.602698</td>\n",
              "      <td>0.942479</td>\n",
              "      <td>07:18</td>\n",
              "    </tr>\n",
              "    <tr>\n",
              "      <td>2</td>\n",
              "      <td>1.341149</td>\n",
              "      <td>1.255469</td>\n",
              "      <td>0.686689</td>\n",
              "      <td>0.963095</td>\n",
              "      <td>07:18</td>\n",
              "    </tr>\n",
              "    <tr>\n",
              "      <td>3</td>\n",
              "      <td>1.243953</td>\n",
              "      <td>1.122435</td>\n",
              "      <td>0.754645</td>\n",
              "      <td>0.969203</td>\n",
              "      <td>07:18</td>\n",
              "    </tr>\n",
              "    <tr>\n",
              "      <td>4</td>\n",
              "      <td>1.031597</td>\n",
              "      <td>0.996570</td>\n",
              "      <td>0.824637</td>\n",
              "      <td>0.981420</td>\n",
              "      <td>07:18</td>\n",
              "    </tr>\n",
              "  </tbody>\n",
              "</table>"
            ],
            "text/plain": [
              "<IPython.core.display.HTML object>"
            ]
          },
          "metadata": {
            "tags": []
          }
        },
        {
          "output_type": "stream",
          "text": [
            ""
          ],
          "name": "stderr"
        },
        {
          "output_type": "stream",
          "text": [
            "data path   /root/.fastai/data/imagewoof2\n"
          ],
          "name": "stdout"
        },
        {
          "output_type": "stream",
          "text": [
            ""
          ],
          "name": "stderr"
        },
        {
          "output_type": "stream",
          "text": [
            "Learn path /root/.fastai/data/imagewoof2\n"
          ],
          "name": "stdout"
        },
        {
          "output_type": "display_data",
          "data": {
            "text/html": [
              "<table border=\"1\" class=\"dataframe\">\n",
              "  <thead>\n",
              "    <tr style=\"text-align: left;\">\n",
              "      <th>epoch</th>\n",
              "      <th>train_loss</th>\n",
              "      <th>valid_loss</th>\n",
              "      <th>accuracy</th>\n",
              "      <th>top_k_accuracy</th>\n",
              "      <th>time</th>\n",
              "    </tr>\n",
              "  </thead>\n",
              "  <tbody>\n",
              "    <tr>\n",
              "      <td>0</td>\n",
              "      <td>1.821380</td>\n",
              "      <td>1.678589</td>\n",
              "      <td>0.481802</td>\n",
              "      <td>0.910919</td>\n",
              "      <td>07:18</td>\n",
              "    </tr>\n",
              "    <tr>\n",
              "      <td>1</td>\n",
              "      <td>1.630918</td>\n",
              "      <td>1.482963</td>\n",
              "      <td>0.576228</td>\n",
              "      <td>0.937643</td>\n",
              "      <td>07:18</td>\n",
              "    </tr>\n",
              "    <tr>\n",
              "      <td>2</td>\n",
              "      <td>1.379747</td>\n",
              "      <td>1.222471</td>\n",
              "      <td>0.704505</td>\n",
              "      <td>0.968440</td>\n",
              "      <td>07:18</td>\n",
              "    </tr>\n",
              "    <tr>\n",
              "      <td>3</td>\n",
              "      <td>1.262058</td>\n",
              "      <td>1.147718</td>\n",
              "      <td>0.755663</td>\n",
              "      <td>0.968949</td>\n",
              "      <td>07:18</td>\n",
              "    </tr>\n",
              "    <tr>\n",
              "      <td>4</td>\n",
              "      <td>1.063779</td>\n",
              "      <td>0.986779</td>\n",
              "      <td>0.833291</td>\n",
              "      <td>0.982947</td>\n",
              "      <td>07:19</td>\n",
              "    </tr>\n",
              "  </tbody>\n",
              "</table>"
            ],
            "text/plain": [
              "<IPython.core.display.HTML object>"
            ]
          },
          "metadata": {
            "tags": []
          }
        },
        {
          "output_type": "stream",
          "text": [
            ""
          ],
          "name": "stderr"
        },
        {
          "output_type": "stream",
          "text": [
            "data path   /root/.fastai/data/imagewoof2\n"
          ],
          "name": "stdout"
        },
        {
          "output_type": "stream",
          "text": [
            ""
          ],
          "name": "stderr"
        },
        {
          "output_type": "stream",
          "text": [
            "Learn path /root/.fastai/data/imagewoof2\n"
          ],
          "name": "stdout"
        },
        {
          "output_type": "display_data",
          "data": {
            "text/html": [
              "<table border=\"1\" class=\"dataframe\">\n",
              "  <thead>\n",
              "    <tr style=\"text-align: left;\">\n",
              "      <th>epoch</th>\n",
              "      <th>train_loss</th>\n",
              "      <th>valid_loss</th>\n",
              "      <th>accuracy</th>\n",
              "      <th>top_k_accuracy</th>\n",
              "      <th>time</th>\n",
              "    </tr>\n",
              "  </thead>\n",
              "  <tbody>\n",
              "    <tr>\n",
              "      <td>0</td>\n",
              "      <td>1.891106</td>\n",
              "      <td>1.707774</td>\n",
              "      <td>0.461441</td>\n",
              "      <td>0.902774</td>\n",
              "      <td>07:18</td>\n",
              "    </tr>\n",
              "    <tr>\n",
              "      <td>1</td>\n",
              "      <td>1.606799</td>\n",
              "      <td>1.477212</td>\n",
              "      <td>0.581064</td>\n",
              "      <td>0.935353</td>\n",
              "      <td>07:18</td>\n",
              "    </tr>\n",
              "    <tr>\n",
              "      <td>2</td>\n",
              "      <td>1.420447</td>\n",
              "      <td>1.298537</td>\n",
              "      <td>0.672436</td>\n",
              "      <td>0.959786</td>\n",
              "      <td>07:18</td>\n",
              "    </tr>\n",
              "    <tr>\n",
              "      <td>3</td>\n",
              "      <td>1.245861</td>\n",
              "      <td>1.184937</td>\n",
              "      <td>0.736829</td>\n",
              "      <td>0.969712</td>\n",
              "      <td>07:19</td>\n",
              "    </tr>\n",
              "    <tr>\n",
              "      <td>4</td>\n",
              "      <td>1.032215</td>\n",
              "      <td>0.994109</td>\n",
              "      <td>0.822601</td>\n",
              "      <td>0.978621</td>\n",
              "      <td>07:18</td>\n",
              "    </tr>\n",
              "  </tbody>\n",
              "</table>"
            ],
            "text/plain": [
              "<IPython.core.display.HTML object>"
            ]
          },
          "metadata": {
            "tags": []
          }
        },
        {
          "output_type": "stream",
          "text": [
            ""
          ],
          "name": "stderr"
        },
        {
          "output_type": "stream",
          "text": [
            "[0.824637, 0.829473, 0.824637, 0.833291, 0.822601] 0.8269279718399047\n"
          ],
          "name": "stdout"
        }
      ]
    },
    {
      "cell_type": "markdown",
      "metadata": {
        "id": "ZMZpFgfHg1cp",
        "colab_type": "text"
      },
      "source": [
        "### epochs=20, 5 runs\n",
        "\n",
        "no stride, bs=16, no act no bn"
      ]
    },
    {
      "cell_type": "code",
      "metadata": {
        "id": "ZanS8tGGweQW",
        "colab_type": "code",
        "colab": {}
      },
      "source": [
        "for epochs in [20]*5:\n",
        "    mixup=0 if epochs<=20 else 0.2\n",
        "    learn = get_learn(model=model, size=192, bs=32, mixup=mixup)\n",
        "    learn.fit_fc(epochs, lr=4e-3, moms=(0.95,0.95), start_pct=0.72)\n",
        "    res += [learn.recorder.metrics[-1][0].item()]\n",
        "print([round(x, 6) for x in res], sum(res)/len(res))"
      ],
      "execution_count": null,
      "outputs": []
    },
    {
      "cell_type": "markdown",
      "metadata": {
        "id": "HQl3YINlg3A9",
        "colab_type": "text"
      },
      "source": [
        "### epochs=80, 1 run\n",
        "\n",
        "no stride, bs=16, no act no bn"
      ]
    },
    {
      "cell_type": "code",
      "metadata": {
        "id": "p6EqvtTL_PnK",
        "colab_type": "code",
        "colab": {}
      },
      "source": [
        "for epochs in [80]:\n",
        "    mixup=0 if epochs<=20 else 0.2\n",
        "    learn = get_learn(model=model, size=192, bs=32, mixup=mixup)\n",
        "    learn.fit_fc(epochs, lr=4e-3, moms=(0.95,0.95), start_pct=0.72)\n",
        "    res += [learn.recorder.metrics[-1][0].item()]\n",
        "print([round(x, 6) for x in res], sum(res)/len(res))"
      ],
      "execution_count": null,
      "outputs": []
    },
    {
      "cell_type": "markdown",
      "metadata": {
        "id": "TsR_sLOmg5mM",
        "colab_type": "text"
      },
      "source": [
        "### epochs=200, 1 run\n",
        "\n",
        "no stride, bs=16, no act no bn"
      ]
    },
    {
      "cell_type": "code",
      "metadata": {
        "id": "edl_s7jIbj2w",
        "colab_type": "code",
        "colab": {}
      },
      "source": [
        "res = []\n",
        "for epochs in [200]:\n",
        "    mixup=0 if epochs<=20 else 0.2\n",
        "    learn = get_learn(model=model, size=192, bs=32, mixup=mixup)\n",
        "    learn.fit_fc(epochs, lr=4e-3, moms=(0.95,0.95), start_pct=0.72)\n",
        "    res += [learn.recorder.metrics[-1][0].item()]\n",
        "print([round(x, 6) for x in res], sum(res)/len(res))"
      ],
      "execution_count": null,
      "outputs": []
    },
    {
      "cell_type": "markdown",
      "metadata": {
        "id": "fBRvEd8Io5VL",
        "colab_type": "text"
      },
      "source": [
        "## size=256"
      ]
    },
    {
      "cell_type": "code",
      "metadata": {
        "id": "YljSlrw5Zysr",
        "colab_type": "code",
        "colab": {}
      },
      "source": [
        "for epochs in [5]*5:\n",
        "    mixup=0 if epochs<=20 else 0.2\n",
        "    learn = get_learn(model=model, size=256, bs=16, mixup=mixup)\n",
        "    learn.fit_fc(epochs, lr=4e-3, moms=(0.95,0.95), start_pct=0.72)\n",
        "    res += [learn.recorder.metrics[-1][0].item()]\n",
        "print([round(x, 6) for x in res], sum(res)/len(res))"
      ],
      "execution_count": null,
      "outputs": []
    },
    {
      "cell_type": "code",
      "metadata": {
        "id": "vtfqnC7vwOrB",
        "colab_type": "code",
        "colab": {}
      },
      "source": [
        "for epochs in [20]*5:\n",
        "    mixup=0 if epochs<=20 else 0.2\n",
        "    learn = get_learn(model=model, size=256, bs=16, mixup=mixup)\n",
        "    learn.fit_fc(epochs, lr=4e-3, moms=(0.95,0.95), start_pct=0.72)\n",
        "    res += [learn.recorder.metrics[-1][0].item()]\n",
        "print([round(x, 6) for x in res], sum(res)/len(res))"
      ],
      "execution_count": null,
      "outputs": []
    },
    {
      "cell_type": "code",
      "metadata": {
        "id": "zzSWWh_oo8xs",
        "colab_type": "code",
        "colab": {}
      },
      "source": [
        "for epochs in [80]:\n",
        "    mixup=0 if epochs<=20 else 0.2\n",
        "    learn = get_learn(model=model, size=256, bs=16, mixup=mixup)\n",
        "    learn.fit_fc(epochs, lr=4e-3, moms=(0.95,0.95), start_pct=0.72)\n",
        "    res += [learn.recorder.metrics[-1][0].item()]\n",
        "print([round(x, 6) for x in res], sum(res)/len(res))"
      ],
      "execution_count": null,
      "outputs": []
    },
    {
      "cell_type": "code",
      "metadata": {
        "id": "bvL2f61cVgVT",
        "colab_type": "code",
        "colab": {}
      },
      "source": [
        ""
      ],
      "execution_count": null,
      "outputs": []
    }
  ]
}