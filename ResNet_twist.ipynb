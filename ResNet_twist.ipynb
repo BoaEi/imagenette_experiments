{
  "nbformat": 4,
  "nbformat_minor": 0,
  "metadata": {
    "kernelspec": {
      "name": "python3",
      "display_name": "Python 3"
    },
    "colab": {
      "name": "Woof_128_twist.ipynb",
      "provenance": [],
      "collapsed_sections": [
        "LP3vVSWMBz1L",
        "6C-1pE45Bz1l",
        "pLmt0ISPBz2w"
      ],
      "include_colab_link": true
    },
    "accelerator": "GPU"
  },
  "cells": [
    {
      "cell_type": "markdown",
      "metadata": {
        "id": "view-in-github",
        "colab_type": "text"
      },
      "source": [
        "<a href=\"https://colab.research.google.com/github/liuyao12/imagenette_experiments/blob/master/ResNet_twist.ipynb\" target=\"_parent\"><img src=\"https://colab.research.google.com/assets/colab-badge.svg\" alt=\"Open In Colab\"/></a>"
      ]
    },
    {
      "cell_type": "markdown",
      "metadata": {
        "id": "GM0cNcW2Bzz4",
        "colab_type": "text"
      },
      "source": [
        "# ResNet with a Twist\n",
        "\n",
        "> with depthwise (x4) + Ranger + Mish + SA + MaxBlurPool + ResTrick\n",
        "\n",
        "See blog https://liuyao12.github.io/blog/research/2020/03/07/Conv-Twist.html\n",
        "\n",
        "See summary at https://forums.fast.ai/t/imagenette-imagewoof-leaderboards/45822/47?u=liuyao "
      ]
    },
    {
      "cell_type": "markdown",
      "metadata": {
        "id": "cXBTriT1fmXE",
        "colab_type": "text"
      },
      "source": [
        "## Imagewoof Leaderboard\n",
        "\n",
        "Imagewoof2, with a 70/30 train/test ratio.\n",
        "\n",
        "| Size (px) | Epochs | SoTA| x2 | x4 | x4 twist | x6 | x4 double | runs |\n",
        "|--|--|--| --|--| --|--|--|--|\n",
        "|128|5|73.37|75.19|76.27||76.61| **82.12**|5, mean\n",
        "|128|20|85.52|85.18|86.22||86.27| **88.93**|5, mean\n",
        "|128|80|87.20|87.70|87.83||87.65| **90.15**|1\n",
        "|128|200|87.20|\n",
        "|192|5|77.87|79.86|81.15|80.73|| **82.69**|5, mean\n",
        "|192|20|87.85|88.12|88.37|88.28|\n",
        "|192|80|89.21|90.30|89.89|89.38|| **92.08** |\n",
        "|192|200|89.54\n",
        "|256|5|\n",
        "|256|20|\n",
        "|256|80|\n",
        "|256|200|\n"
      ]
    },
    {
      "cell_type": "markdown",
      "metadata": {
        "id": "DrD1-te_Bzz7",
        "colab_type": "text"
      },
      "source": [
        "# setup and imports"
      ]
    },
    {
      "cell_type": "code",
      "metadata": {
        "id": "jtfoQmHrJonm",
        "colab_type": "code",
        "colab": {}
      },
      "source": [
        "# pip install kornia"
      ],
      "execution_count": null,
      "outputs": []
    },
    {
      "cell_type": "code",
      "metadata": {
        "id": "UteAROmqBzz9",
        "colab_type": "code",
        "colab": {}
      },
      "source": [
        "pip install git+https://github.com/ayasyrev/model_constructor"
      ],
      "execution_count": null,
      "outputs": []
    },
    {
      "cell_type": "code",
      "metadata": {
        "colab_type": "code",
        "id": "XnsPVNrkTfV3",
        "colab": {}
      },
      "source": [
        "pip install git+https://github.com/ayasyrev/imagenette_experiments"
      ],
      "execution_count": null,
      "outputs": []
    },
    {
      "cell_type": "code",
      "metadata": {
        "id": "K-OCjxGCBz0J",
        "colab_type": "code",
        "colab": {}
      },
      "source": [
        "from fastai.basic_train import *\n",
        "from fastai.vision import *\n",
        "# from fastai.script import *"
      ],
      "execution_count": 4,
      "outputs": []
    },
    {
      "cell_type": "code",
      "metadata": {
        "id": "vPNF3XKWBz0O",
        "colab_type": "code",
        "colab": {}
      },
      "source": [
        "from kornia.contrib import MaxBlurPool2d"
      ],
      "execution_count": 5,
      "outputs": []
    },
    {
      "cell_type": "code",
      "metadata": {
        "id": "xPGwrk6TBz0U",
        "colab_type": "code",
        "colab": {}
      },
      "source": [
        "from imagenette_experiments.train_utils import *\n",
        "from model_constructor.net import Net, act_fn\n",
        "from model_constructor.layers import SimpleSelfAttention, ConvLayer"
      ],
      "execution_count": 6,
      "outputs": []
    },
    {
      "cell_type": "markdown",
      "metadata": {
        "id": "U63Mcb1lBz0p",
        "colab_type": "text"
      },
      "source": [
        "# ResBlock"
      ]
    },
    {
      "cell_type": "code",
      "metadata": {
        "id": "NbKrwk-649_y",
        "colab_type": "code",
        "colab": {}
      },
      "source": [
        "class MnM(nn.Module): # Mix and Multiply\n",
        "    def __init__(self, channels, group_size):\n",
        "        super().__init__()\n",
        "        self.channels = channels\n",
        "        self.gs = group_size\n",
        "        n = channels\n",
        "        self.conv = nn.Conv2d(n, n*4, 1, groups=n, bias=True)\n",
        "        self.mask = torch.zeros((n,n,1,1))\n",
        "        for i in range(channels//group_size):\n",
        "            self.mask[i*2:(i+1)*2,i*2:(i+1)*2] = 1\n",
        "        self.XY = None\n",
        "\n",
        "    def forward(self, x): \n",
        "        N,C,H,W = x.size()\n",
        "        # x1 = x.view(N,C//dm,dm,H,W)[:,:,:dm-2].reshape(N,C//dm*(dm-2),H,W)\n",
        "        # x2 = x.view(N,C//dm,dm,H,W)[:,:,-2:].reshape(N,C//dm*2,H,W)\n",
        "        if self.XY is None:\n",
        "            XX = torch.from_numpy(np.indices((1,H,W))[2]*2/W-1)\n",
        "            YY = torch.from_numpy(np.indices((1,H,W))[1]*2/H-1)\n",
        "            ones = torch.ones((self.gs-2,H,W))\n",
        "            g = self.channels*2 #//self.gs*2\n",
        "            self.XY = torch.cat([XX,YY]*g, dim=0).to(x.device).type(x.dtype)\n",
        "            # self.XY = XY.unsqueeze(0).expand(self.channels//self.gs,self.gs,H,W).reshape(self.channels,H,W)\n",
        "            self.mask = self.mask.to(x.device).type(x.dtype)\n",
        "        # self.conv.weight.data = self.mask * self.conv.weight\n",
        "        twist = self.conv(x)*self.XY\n",
        "        twist = torch.sum(twist.view(N,-1,4,H,W), dim=2)\n",
        "        return twist # torch.cat([x1, twist], dim=1)"
      ],
      "execution_count": 12,
      "outputs": []
    },
    {
      "cell_type": "code",
      "metadata": {
        "id": "kY7y9c99Bz0q",
        "colab_type": "code",
        "colab": {}
      },
      "source": [
        "class NewLayer(nn.Sequential):\n",
        "    \"\"\"Basic conv layers block\"\"\"\n",
        "    def __init__(self, ni, nf, ks=3, stride=1,\n",
        "            act=True,  act_fn=nn.ReLU(inplace=True),\n",
        "            bn_layer=True, bn_1st=True, zero_bn=False,\n",
        "            padding=None, bias=False, groups=1, **kwargs):\n",
        "\n",
        "        if padding==None: padding = ks//2\n",
        "        if ks==3 and groups==1:  # to be used for the \"stem\" of ResNet\n",
        "          # if ni==3: stride = 2\n",
        "          layers = [('Conv3x3', nn.Conv2d(ni, ni*dm, 3, stride=stride, padding=1, bias=bias, groups=ni)),\n",
        "                    ('Conv1x1', nn.Conv2d(ni*dm, nf, 1, bias=bias, groups=1))]\n",
        "        else:\n",
        "          layers = [('Conv{}x{}'.format(ks,ks), \n",
        "                      nn.Conv2d(ni, nf, ks, stride=stride, padding=padding, bias=bias, groups=groups))]\n",
        "          if ks==3:\n",
        "            layers += [('MnM', MnM(nf, dm))]\n",
        "\n",
        "        act_bn = [('act_fn', act_fn)] if act else []\n",
        "        if bn_layer:\n",
        "            bn = nn.BatchNorm2d(nf)\n",
        "            nn.init.constant_(bn.weight, 0. if zero_bn else 1.)\n",
        "            act_bn += [('bn', bn)]\n",
        "        if bn_1st: act_bn.reverse()\n",
        "        layers += act_bn\n",
        "        super().__init__(OrderedDict(layers))"
      ],
      "execution_count": 13,
      "outputs": []
    },
    {
      "cell_type": "code",
      "metadata": {
        "id": "nVLFz9nhBz0x",
        "colab_type": "code",
        "colab": {}
      },
      "source": [
        "class NewResBlock(Module):\n",
        "    def __init__(self, expansion, ni, nh, stride=1,\n",
        "                 conv_layer=ConvLayer, act_fn=act_fn, zero_bn=True, bn_1st=True,\n",
        "                 pool=nn.AvgPool2d(2, ceil_mode=True), sa=False, sym=False, groups=1):\n",
        "        nf,ni = nh*expansion,ni*expansion\n",
        "        conv_layer = NewLayer\n",
        "        self.reduce = noop if stride==1 else pool\n",
        "        layers  = [(f\"conv_0\", conv_layer(ni, nh, 3, act_fn=act_fn, bn_1st=bn_1st)),\n",
        "                   (f\"conv_1\", conv_layer(ni, nf, 3, zero_bn=zero_bn, act=False, bn_layer=True))\n",
        "        ] if expansion == 1 else [\n",
        "                   (f\"conv_0\", conv_layer(ni, nh, 1, act_fn=act_fn, bn_1st=bn_1st)),\n",
        "                   # (f\"conv_1\", conv_layer(nh, nh, 3, act_fn=act_fn, bn_1st=bn_1st)),\n",
        "                   # (f\"conv_1\", conv_layer(nh, nh*dm, 3, groups=nh, act_fn=act_fn, bn_1st=bn_1st)),\n",
        "                   (f\"conv_1\", conv_layer(nh, nh*dm, 3, groups=nh, act=False, bn_layer=False)),\n",
        "                   (f\"conv_2\", conv_layer(nh*dm, nf, 1, zero_bn=zero_bn, act=False, bn_1st=bn_1st))\n",
        "        ]\n",
        "        if sa: layers.append(('sa', SimpleSelfAttention(nf,ks=1,sym=sym)))\n",
        "        self.convs = nn.Sequential(OrderedDict(layers))\n",
        "        self.idconv = noop if ni==nf else conv_layer(ni, nf, 1, act=False, bn_1st=bn_1st)\n",
        "        self.merge = act_fn\n",
        "\n",
        "    def forward(self, x):\n",
        "        o = self.reduce(x)\n",
        "        return self.merge(self.convs(o) + self.idconv(o))"
      ],
      "execution_count": 14,
      "outputs": []
    },
    {
      "cell_type": "markdown",
      "metadata": {
        "id": "XroIp4GcBz07",
        "colab_type": "text"
      },
      "source": [
        "# Model Constructor"
      ]
    },
    {
      "cell_type": "code",
      "metadata": {
        "id": "ZTrZVV81Bz1G",
        "colab_type": "code",
        "colab": {}
      },
      "source": [
        "model = Net(c_out=10, layers=[3,6,8,3], expansion=4)\n",
        "model.block = NewResBlock\n",
        "model.conv_layer = NewLayer # for the stem\n",
        "pool = MaxBlurPool2d(3, True)\n",
        "model.pool = pool\n",
        "model.stem_sizes = [3,32,64,64]\n",
        "model.act_fn = Mish()\n",
        "model.sa = True"
      ],
      "execution_count": 15,
      "outputs": []
    },
    {
      "cell_type": "markdown",
      "metadata": {
        "id": "sCDxE73yuq_5",
        "colab_type": "text"
      },
      "source": [
        "## Experiment"
      ]
    },
    {
      "cell_type": "code",
      "metadata": {
        "id": "2JfDW5iqPVE4",
        "colab_type": "code",
        "colab": {}
      },
      "source": [
        "dm = 4\n",
        "res = dict()\n",
        "for e in [5]*5 + [20] + [80]:\n",
        "  mixup=0 if e<=20 else 0.2\n",
        "  learn = get_learn(model=model, size=192, bs=16, mixup=mixup)\n",
        "  learn.fit_fc(e, lr=4e-3, moms=(0.95,0.95), start_pct=0.72)\n",
        "  acc = learn.recorder.metrics[-1][0].item()\n",
        "  if e in res:\n",
        "    res[e] += [acc]\n",
        "  else:\n",
        "    res[e] = [acc]\n",
        "  print('{} epochs: {} ({} runs)'.format(e, sum(res[e])/len(res[e]), len(res[e])))\n",
        "print('depth multiplier={}'.format(dm), {e: sum(res[e])/len(res[e]) for e in res})"
      ],
      "execution_count": null,
      "outputs": []
    },
    {
      "cell_type": "code",
      "metadata": {
        "id": "tj0OrEg8rEuk",
        "colab_type": "code",
        "colab": {}
      },
      "source": [
        ""
      ],
      "execution_count": null,
      "outputs": []
    }
  ]
}